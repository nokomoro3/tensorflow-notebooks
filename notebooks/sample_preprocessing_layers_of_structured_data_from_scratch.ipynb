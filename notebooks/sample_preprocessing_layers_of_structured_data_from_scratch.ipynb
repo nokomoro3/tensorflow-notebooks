{
 "cells": [
  {
   "cell_type": "markdown",
   "id": "b7178768-78ed-41a9-81ab-8dee49404af4",
   "metadata": {},
   "source": [
    "# sample_preprocessing_layers_of_structured_data_from_scratch\n",
    "- ref: https://keras.io/examples/structured_data/structured_data_classification_from_scratch/\n",
    "- ref: https://colab.research.google.com/github/tensorflow/docs-l10n/blob/master/site/ja/guide/keras/preprocessing_layers.ipynb\n",
    "- ref: https://tensorflow.google.cn/guide/keras/preprocessing_layers?hl=ja\n",
    "- ref: https://tensorflow.classcat.com/2021/01/14/tf24-guide-keras-preprocessing-layers/\n",
    "- ref: https://www.tensorflow.org/api_docs/python/tf/keras/layers/IntegerLookup"
   ]
  },
  {
   "cell_type": "code",
   "execution_count": 24,
   "id": "030ba376-bcd0-42d3-b75f-68e14ca73b51",
   "metadata": {},
   "outputs": [],
   "source": [
    "import tensorflow as tf\n",
    "import numpy as np\n",
    "import pandas as pd\n",
    "from tensorflow.keras import layers"
   ]
  },
  {
   "cell_type": "markdown",
   "id": "b426c38e-28c2-4990-9480-0b10634f8c62",
   "metadata": {},
   "source": [
    "## prepare dataset"
   ]
  },
  {
   "cell_type": "markdown",
   "id": "67234d20-e7c5-4077-9762-ded0acf650e5",
   "metadata": {},
   "source": [
    "- csvのロード"
   ]
  },
  {
   "cell_type": "code",
   "execution_count": 3,
   "id": "f41993c8-142c-4e36-939c-938df37f3878",
   "metadata": {},
   "outputs": [
    {
     "data": {
      "text/html": [
       "<div>\n",
       "<style scoped>\n",
       "    .dataframe tbody tr th:only-of-type {\n",
       "        vertical-align: middle;\n",
       "    }\n",
       "\n",
       "    .dataframe tbody tr th {\n",
       "        vertical-align: top;\n",
       "    }\n",
       "\n",
       "    .dataframe thead th {\n",
       "        text-align: right;\n",
       "    }\n",
       "</style>\n",
       "<table border=\"1\" class=\"dataframe\">\n",
       "  <thead>\n",
       "    <tr style=\"text-align: right;\">\n",
       "      <th></th>\n",
       "      <th>age</th>\n",
       "      <th>sex</th>\n",
       "      <th>cp</th>\n",
       "      <th>trestbps</th>\n",
       "      <th>chol</th>\n",
       "      <th>fbs</th>\n",
       "      <th>restecg</th>\n",
       "      <th>thalach</th>\n",
       "      <th>exang</th>\n",
       "      <th>oldpeak</th>\n",
       "      <th>slope</th>\n",
       "      <th>ca</th>\n",
       "      <th>thal</th>\n",
       "      <th>target</th>\n",
       "    </tr>\n",
       "  </thead>\n",
       "  <tbody>\n",
       "    <tr>\n",
       "      <th>0</th>\n",
       "      <td>63</td>\n",
       "      <td>1</td>\n",
       "      <td>1</td>\n",
       "      <td>145</td>\n",
       "      <td>233</td>\n",
       "      <td>1</td>\n",
       "      <td>2</td>\n",
       "      <td>150</td>\n",
       "      <td>0</td>\n",
       "      <td>2.3</td>\n",
       "      <td>3</td>\n",
       "      <td>0</td>\n",
       "      <td>fixed</td>\n",
       "      <td>0</td>\n",
       "    </tr>\n",
       "    <tr>\n",
       "      <th>1</th>\n",
       "      <td>67</td>\n",
       "      <td>1</td>\n",
       "      <td>4</td>\n",
       "      <td>160</td>\n",
       "      <td>286</td>\n",
       "      <td>0</td>\n",
       "      <td>2</td>\n",
       "      <td>108</td>\n",
       "      <td>1</td>\n",
       "      <td>1.5</td>\n",
       "      <td>2</td>\n",
       "      <td>3</td>\n",
       "      <td>normal</td>\n",
       "      <td>1</td>\n",
       "    </tr>\n",
       "    <tr>\n",
       "      <th>2</th>\n",
       "      <td>67</td>\n",
       "      <td>1</td>\n",
       "      <td>4</td>\n",
       "      <td>120</td>\n",
       "      <td>229</td>\n",
       "      <td>0</td>\n",
       "      <td>2</td>\n",
       "      <td>129</td>\n",
       "      <td>1</td>\n",
       "      <td>2.6</td>\n",
       "      <td>2</td>\n",
       "      <td>2</td>\n",
       "      <td>reversible</td>\n",
       "      <td>0</td>\n",
       "    </tr>\n",
       "    <tr>\n",
       "      <th>3</th>\n",
       "      <td>37</td>\n",
       "      <td>1</td>\n",
       "      <td>3</td>\n",
       "      <td>130</td>\n",
       "      <td>250</td>\n",
       "      <td>0</td>\n",
       "      <td>0</td>\n",
       "      <td>187</td>\n",
       "      <td>0</td>\n",
       "      <td>3.5</td>\n",
       "      <td>3</td>\n",
       "      <td>0</td>\n",
       "      <td>normal</td>\n",
       "      <td>0</td>\n",
       "    </tr>\n",
       "    <tr>\n",
       "      <th>4</th>\n",
       "      <td>41</td>\n",
       "      <td>0</td>\n",
       "      <td>2</td>\n",
       "      <td>130</td>\n",
       "      <td>204</td>\n",
       "      <td>0</td>\n",
       "      <td>2</td>\n",
       "      <td>172</td>\n",
       "      <td>0</td>\n",
       "      <td>1.4</td>\n",
       "      <td>1</td>\n",
       "      <td>0</td>\n",
       "      <td>normal</td>\n",
       "      <td>0</td>\n",
       "    </tr>\n",
       "  </tbody>\n",
       "</table>\n",
       "</div>"
      ],
      "text/plain": [
       "   age  sex  cp  trestbps  chol  fbs  restecg  thalach  exang  oldpeak  slope  \\\n",
       "0   63    1   1       145   233    1        2      150      0      2.3      3   \n",
       "1   67    1   4       160   286    0        2      108      1      1.5      2   \n",
       "2   67    1   4       120   229    0        2      129      1      2.6      2   \n",
       "3   37    1   3       130   250    0        0      187      0      3.5      3   \n",
       "4   41    0   2       130   204    0        2      172      0      1.4      1   \n",
       "\n",
       "   ca        thal  target  \n",
       "0   0       fixed       0  \n",
       "1   3      normal       1  \n",
       "2   2  reversible       0  \n",
       "3   0      normal       0  \n",
       "4   0      normal       0  "
      ]
     },
     "execution_count": 3,
     "metadata": {},
     "output_type": "execute_result"
    }
   ],
   "source": [
    "file_url = \"http://storage.googleapis.com/download.tensorflow.org/data/heart.csv\"\n",
    "dataframe = pd.read_csv(file_url)\n",
    "dataframe.head(5)"
   ]
  },
  {
   "cell_type": "markdown",
   "id": "92fea935-1d2c-4a3b-a0f6-f9358ec47ce5",
   "metadata": {},
   "source": [
    "- train/validの分割。"
   ]
  },
  {
   "cell_type": "code",
   "execution_count": 4,
   "id": "6e4d6886-4ca5-4616-b318-76d7001c7965",
   "metadata": {},
   "outputs": [
    {
     "name": "stdout",
     "output_type": "stream",
     "text": [
      "Using 242 samples for training and 61 for validation\n"
     ]
    }
   ],
   "source": [
    "val_dataframe = dataframe.sample(frac=0.2, random_state=1337)\n",
    "train_dataframe = dataframe.drop(val_dataframe.index)\n",
    "\n",
    "print(\n",
    "    \"Using %d samples for training and %d for validation\"\n",
    "    % (len(train_dataframe), len(val_dataframe))\n",
    ")"
   ]
  },
  {
   "cell_type": "markdown",
   "id": "66cbee15-0fca-4c43-a0c5-48847e7883be",
   "metadata": {},
   "source": [
    "- ds作成\n",
    "  - dict(dataframe)なこれでいいのか？感がある。\n",
    "    - dictだと列志向のdictになる。この変換でOKなのは覚えておいた方が良い。\n",
    "  - shuffleのbuffer_sizeの意味を知らない。\n",
    "    - 基本は、データサイズと同じにすれば均等にシャッフルできる。\n",
    "    - 詳しくはこちら。https://qiita.com/exy81/items/d1388f6f02a11c8f1d7e"
   ]
  },
  {
   "cell_type": "code",
   "execution_count": 44,
   "id": "cceb3f96-ada1-4e45-b337-e53a5f6ac0ef",
   "metadata": {},
   "outputs": [],
   "source": [
    "def dataframe_to_dataset(dataframe):\n",
    "    dataframe = dataframe.copy()\n",
    "    labels = dataframe.pop(\"target\")\n",
    "    ds = tf.data.Dataset.from_tensor_slices((dict(dataframe[['sex','cp']]), labels))\n",
    "    ds = ds.shuffle(buffer_size=len(dataframe))\n",
    "    return ds\n",
    "\n",
    "train_ds = dataframe_to_dataset(train_dataframe)\n",
    "val_ds = dataframe_to_dataset(val_dataframe)\n",
    "train_ds = train_ds.batch(32)\n",
    "val_ds = val_ds.batch(32)"
   ]
  },
  {
   "cell_type": "markdown",
   "id": "97f0961d-6140-45c6-91c8-cbdae8e0000e",
   "metadata": {},
   "source": [
    "- dsの値を確認。"
   ]
  },
  {
   "cell_type": "code",
   "execution_count": 45,
   "id": "a3c5d91c-08d1-4889-8500-82571252b306",
   "metadata": {},
   "outputs": [
    {
     "name": "stdout",
     "output_type": "stream",
     "text": [
      "Input: {'sex': <tf.Tensor: shape=(32,), dtype=int64, numpy=\n",
      "array([1, 0, 1, 0, 1, 0, 1, 0, 0, 1, 1, 1, 1, 0, 1, 1, 0, 1, 1, 0, 1, 1,\n",
      "       1, 1, 0, 1, 1, 1, 1, 1, 1, 1], dtype=int64)>, 'cp': <tf.Tensor: shape=(32,), dtype=int64, numpy=\n",
      "array([1, 4, 2, 3, 4, 3, 2, 3, 3, 2, 3, 4, 2, 2, 0, 4, 3, 4, 4, 4, 4, 1,\n",
      "       4, 4, 3, 4, 2, 4, 4, 4, 4, 3], dtype=int64)>}\n",
      "Target: tf.Tensor([0 0 0 0 1 0 0 0 0 0 1 0 0 0 0 1 0 0 0 0 1 0 1 1 0 1 0 1 1 0 1 0], shape=(32,), dtype=int64)\n"
     ]
    }
   ],
   "source": [
    "for x, y in train_ds.take(1):\n",
    "    print(\"Input:\", x)\n",
    "    print(\"Target:\", y)"
   ]
  },
  {
   "cell_type": "code",
   "execution_count": 46,
   "id": "18348d0b-d9e2-4380-90d8-0282c0476f9a",
   "metadata": {},
   "outputs": [],
   "source": [
    "def encode_numerical_feature(feature, name, dataset):\n",
    "    # Create a Normalization layer for our feature\n",
    "    normalizer = layers.Normalization()\n",
    "\n",
    "    # Prepare a Dataset that only yields our feature\n",
    "    feature_ds = dataset.map(lambda x, y: x[name])\n",
    "    feature_ds = feature_ds.map(lambda x: tf.expand_dims(x, -1))\n",
    "\n",
    "    # Learn the statistics of the data\n",
    "    normalizer.adapt(feature_ds)\n",
    "\n",
    "    # Normalize the input feature\n",
    "    encoded_feature = normalizer(feature)\n",
    "    return encoded_feature\n",
    "\n",
    "\n",
    "def encode_categorical_feature(feature, name, dataset, is_string):\n",
    "\n",
    "    lookup_class = layers.StringLookup if is_string else layers.IntegerLookup\n",
    "\n",
    "    # Create a lookup layer which will turn strings into integer indices\n",
    "    lookup = lookup_class(output_mode=\"binary\")\n",
    "\n",
    "    # Prepare a Dataset that only yields our feature\n",
    "    feature_ds = dataset.map(lambda x, y: x[name])\n",
    "    feature_ds = feature_ds.map(lambda x: tf.expand_dims(x, -1))\n",
    "\n",
    "    # Learn the set of possible string values and assign them a fixed integer index\n",
    "    lookup.adapt(feature_ds)\n",
    "\n",
    "    # Turn the string input into integer indices\n",
    "    encoded_feature = lookup(feature)\n",
    "    return encoded_feature"
   ]
  },
  {
   "cell_type": "code",
   "execution_count": 47,
   "id": "519492e7-8bfc-4662-b406-9f0c1f04dba6",
   "metadata": {},
   "outputs": [],
   "source": [
    "sex = keras.Input(shape=(1,), name=\"sex\", dtype=\"int64\")\n",
    "cp = keras.Input(shape=(1,), name=\"cp\", dtype=\"int64\")\n",
    "all_inputs = [\n",
    "    sex,\n",
    "    cp,\n",
    "]\n",
    "\n",
    "sex_encoded = encode_categorical_feature(sex, \"sex\", train_ds, False)\n",
    "cp_encoded = encode_categorical_feature(cp, \"cp\", train_ds, False)\n",
    "\n",
    "all_features = layers.concatenate(\n",
    "    [\n",
    "        sex_encoded,\n",
    "        cp_encoded,\n",
    "    ]\n",
    ")\n",
    "\n",
    "x = layers.Dense(32, activation=\"relu\")(all_features)\n",
    "x = layers.Dropout(0.5)(x)\n",
    "output = layers.Dense(1, activation=\"sigmoid\")(x)\n",
    "model = keras.Model(all_inputs, output)"
   ]
  },
  {
   "cell_type": "code",
   "execution_count": 48,
   "id": "0dc138e5-0523-45ce-b929-d100c962f0c5",
   "metadata": {},
   "outputs": [
    {
     "data": {
      "image/png": "[encoded data removed]",
      "text/plain": [
       "<IPython.core.display.Image object>"
      ]
     },
     "execution_count": 48,
     "metadata": {},
     "output_type": "execute_result"
    }
   ],
   "source": [
    "# `rankdir='LR'` is to make the graph horizontal.\n",
    "keras.utils.plot_model(model, show_shapes=True, show_layer_names=True)\n",
    "# keras.utils.plot_model(model, show_shapes=True, show_layer_names=True)\n",
    "# keras.utils.plot_model(model, to_file='model.png', rankdir=\"LR\")"
   ]
  },
  {
   "cell_type": "code",
   "execution_count": 49,
   "id": "9701fa0b-02ad-4939-8cd6-173f0a9cb2c5",
   "metadata": {},
   "outputs": [
    {
     "name": "stdout",
     "output_type": "stream",
     "text": [
      "Epoch 1/50\n",
      "8/8 [==============================] - 1s 27ms/step - loss: 0.6582 - accuracy: 0.6033 - val_loss: 0.6342 - val_accuracy: 0.7705\n",
      "Epoch 2/50\n",
      "8/8 [==============================] - 0s 11ms/step - loss: 0.6663 - accuracy: 0.6074 - val_loss: 0.6135 - val_accuracy: 0.7705\n",
      "Epoch 3/50\n",
      "8/8 [==============================] - 0s 9ms/step - loss: 0.6607 - accuracy: 0.6570 - val_loss: 0.5958 - val_accuracy: 0.7705\n",
      "Epoch 4/50\n",
      "8/8 [==============================] - 0s 9ms/step - loss: 0.6283 - accuracy: 0.7025 - val_loss: 0.5806 - val_accuracy: 0.7705\n",
      "Epoch 5/50\n",
      "8/8 [==============================] - 0s 9ms/step - loss: 0.6279 - accuracy: 0.6736 - val_loss: 0.5673 - val_accuracy: 0.7705\n",
      "Epoch 6/50\n",
      "8/8 [==============================] - 0s 9ms/step - loss: 0.5873 - accuracy: 0.7149 - val_loss: 0.5558 - val_accuracy: 0.7705\n",
      "Epoch 7/50\n",
      "8/8 [==============================] - 0s 9ms/step - loss: 0.5903 - accuracy: 0.6983 - val_loss: 0.5447 - val_accuracy: 0.7705\n",
      "Epoch 8/50\n",
      "8/8 [==============================] - 0s 9ms/step - loss: 0.5930 - accuracy: 0.6860 - val_loss: 0.5338 - val_accuracy: 0.7705\n",
      "Epoch 9/50\n",
      "8/8 [==============================] - 0s 10ms/step - loss: 0.5876 - accuracy: 0.7190 - val_loss: 0.5243 - val_accuracy: 0.7705\n",
      "Epoch 10/50\n",
      "8/8 [==============================] - 0s 9ms/step - loss: 0.5722 - accuracy: 0.7107 - val_loss: 0.5159 - val_accuracy: 0.7705\n",
      "Epoch 11/50\n",
      "8/8 [==============================] - 0s 9ms/step - loss: 0.5678 - accuracy: 0.7273 - val_loss: 0.5090 - val_accuracy: 0.7705\n",
      "Epoch 12/50\n",
      "8/8 [==============================] - 0s 9ms/step - loss: 0.5532 - accuracy: 0.7231 - val_loss: 0.5018 - val_accuracy: 0.7705\n",
      "Epoch 13/50\n",
      "8/8 [==============================] - 0s 10ms/step - loss: 0.5475 - accuracy: 0.7149 - val_loss: 0.4950 - val_accuracy: 0.7705\n",
      "Epoch 14/50\n",
      "8/8 [==============================] - 0s 10ms/step - loss: 0.5585 - accuracy: 0.7066 - val_loss: 0.4895 - val_accuracy: 0.7705\n",
      "Epoch 15/50\n",
      "8/8 [==============================] - 0s 12ms/step - loss: 0.5519 - accuracy: 0.7314 - val_loss: 0.4840 - val_accuracy: 0.7705\n",
      "Epoch 16/50\n",
      "8/8 [==============================] - 0s 11ms/step - loss: 0.5475 - accuracy: 0.7066 - val_loss: 0.4792 - val_accuracy: 0.7705\n",
      "Epoch 17/50\n",
      "8/8 [==============================] - 0s 10ms/step - loss: 0.5416 - accuracy: 0.7273 - val_loss: 0.4752 - val_accuracy: 0.7705\n",
      "Epoch 18/50\n",
      "8/8 [==============================] - 0s 10ms/step - loss: 0.5580 - accuracy: 0.6942 - val_loss: 0.4702 - val_accuracy: 0.7705\n",
      "Epoch 19/50\n",
      "8/8 [==============================] - 0s 10ms/step - loss: 0.5283 - accuracy: 0.7273 - val_loss: 0.4660 - val_accuracy: 0.7705\n",
      "Epoch 20/50\n",
      "8/8 [==============================] - 0s 12ms/step - loss: 0.5229 - accuracy: 0.7355 - val_loss: 0.4617 - val_accuracy: 0.7705\n",
      "Epoch 21/50\n",
      "8/8 [==============================] - 0s 12ms/step - loss: 0.5293 - accuracy: 0.7190 - val_loss: 0.4580 - val_accuracy: 0.7705\n",
      "Epoch 22/50\n",
      "8/8 [==============================] - 0s 10ms/step - loss: 0.5249 - accuracy: 0.7149 - val_loss: 0.4546 - val_accuracy: 0.7705\n",
      "Epoch 23/50\n",
      "8/8 [==============================] - 0s 10ms/step - loss: 0.5240 - accuracy: 0.7231 - val_loss: 0.4515 - val_accuracy: 0.7705\n",
      "Epoch 24/50\n",
      "8/8 [==============================] - 0s 10ms/step - loss: 0.5141 - accuracy: 0.7190 - val_loss: 0.4496 - val_accuracy: 0.7705\n",
      "Epoch 25/50\n",
      "8/8 [==============================] - 0s 10ms/step - loss: 0.5395 - accuracy: 0.7190 - val_loss: 0.4470 - val_accuracy: 0.7705\n",
      "Epoch 26/50\n",
      "8/8 [==============================] - 0s 10ms/step - loss: 0.5277 - accuracy: 0.7273 - val_loss: 0.4448 - val_accuracy: 0.7705\n",
      "Epoch 27/50\n",
      "8/8 [==============================] - 0s 10ms/step - loss: 0.5210 - accuracy: 0.7273 - val_loss: 0.4433 - val_accuracy: 0.7705\n",
      "Epoch 28/50\n",
      "8/8 [==============================] - 0s 10ms/step - loss: 0.4989 - accuracy: 0.7479 - val_loss: 0.4415 - val_accuracy: 0.7705\n",
      "Epoch 29/50\n",
      "8/8 [==============================] - 0s 10ms/step - loss: 0.5235 - accuracy: 0.7273 - val_loss: 0.4404 - val_accuracy: 0.7705\n",
      "Epoch 30/50\n",
      "8/8 [==============================] - 0s 10ms/step - loss: 0.5092 - accuracy: 0.7603 - val_loss: 0.4392 - val_accuracy: 0.7705\n",
      "Epoch 31/50\n",
      "8/8 [==============================] - 0s 10ms/step - loss: 0.5171 - accuracy: 0.7355 - val_loss: 0.4376 - val_accuracy: 0.7705\n",
      "Epoch 32/50\n",
      "8/8 [==============================] - 0s 10ms/step - loss: 0.4871 - accuracy: 0.7562 - val_loss: 0.4359 - val_accuracy: 0.7705\n",
      "Epoch 33/50\n",
      "8/8 [==============================] - 0s 10ms/step - loss: 0.5068 - accuracy: 0.7438 - val_loss: 0.4341 - val_accuracy: 0.7705\n",
      "Epoch 34/50\n",
      "8/8 [==============================] - 0s 10ms/step - loss: 0.4918 - accuracy: 0.7769 - val_loss: 0.4323 - val_accuracy: 0.7705\n",
      "Epoch 35/50\n",
      "8/8 [==============================] - 0s 10ms/step - loss: 0.4951 - accuracy: 0.7231 - val_loss: 0.4317 - val_accuracy: 0.7705\n",
      "Epoch 36/50\n",
      "8/8 [==============================] - 0s 10ms/step - loss: 0.5079 - accuracy: 0.7397 - val_loss: 0.4312 - val_accuracy: 0.7705\n",
      "Epoch 37/50\n",
      "8/8 [==============================] - 0s 10ms/step - loss: 0.5163 - accuracy: 0.7438 - val_loss: 0.4306 - val_accuracy: 0.7705\n",
      "Epoch 38/50\n",
      "8/8 [==============================] - 0s 8ms/step - loss: 0.5321 - accuracy: 0.7273 - val_loss: 0.4302 - val_accuracy: 0.7705\n",
      "Epoch 39/50\n",
      "8/8 [==============================] - 0s 9ms/step - loss: 0.4977 - accuracy: 0.7603 - val_loss: 0.4297 - val_accuracy: 0.7705\n",
      "Epoch 40/50\n",
      "8/8 [==============================] - 0s 8ms/step - loss: 0.5220 - accuracy: 0.7479 - val_loss: 0.4292 - val_accuracy: 0.7705\n",
      "Epoch 41/50\n",
      "8/8 [==============================] - 0s 9ms/step - loss: 0.5245 - accuracy: 0.7190 - val_loss: 0.4284 - val_accuracy: 0.7705\n",
      "Epoch 42/50\n",
      "8/8 [==============================] - 0s 10ms/step - loss: 0.5264 - accuracy: 0.7107 - val_loss: 0.4279 - val_accuracy: 0.7705\n",
      "Epoch 43/50\n",
      "8/8 [==============================] - 0s 10ms/step - loss: 0.5127 - accuracy: 0.7355 - val_loss: 0.4278 - val_accuracy: 0.7705\n",
      "Epoch 44/50\n",
      "8/8 [==============================] - 0s 10ms/step - loss: 0.4994 - accuracy: 0.7603 - val_loss: 0.4276 - val_accuracy: 0.7705\n",
      "Epoch 45/50\n",
      "8/8 [==============================] - 0s 10ms/step - loss: 0.5096 - accuracy: 0.7397 - val_loss: 0.4272 - val_accuracy: 0.7705\n",
      "Epoch 46/50\n",
      "8/8 [==============================] - 0s 9ms/step - loss: 0.4907 - accuracy: 0.7355 - val_loss: 0.4272 - val_accuracy: 0.7705\n",
      "Epoch 47/50\n",
      "8/8 [==============================] - 0s 10ms/step - loss: 0.5271 - accuracy: 0.6942 - val_loss: 0.4272 - val_accuracy: 0.7705\n",
      "Epoch 48/50\n",
      "8/8 [==============================] - 0s 9ms/step - loss: 0.5071 - accuracy: 0.7603 - val_loss: 0.4271 - val_accuracy: 0.7705\n",
      "Epoch 49/50\n",
      "8/8 [==============================] - 0s 10ms/step - loss: 0.5073 - accuracy: 0.7066 - val_loss: 0.4277 - val_accuracy: 0.7705\n",
      "Epoch 50/50\n",
      "8/8 [==============================] - 0s 10ms/step - loss: 0.4912 - accuracy: 0.7273 - val_loss: 0.4273 - val_accuracy: 0.7705\n"
     ]
    },
    {
     "data": {
      "text/plain": [
       "<keras.callbacks.History at 0x26223f1d760>"
      ]
     },
     "execution_count": 49,
     "metadata": {},
     "output_type": "execute_result"
    }
   ],
   "source": [
    "model.compile(\"adam\", \"binary_crossentropy\", metrics=[\"accuracy\"])\n",
    "model.fit(train_ds, epochs=50, validation_data=val_ds)"
   ]
  },
  {
   "cell_type": "markdown",
   "id": "7bcdab9f-d3f3-4149-a565-5786f50690c2",
   "metadata": {},
   "source": [
    "## use custom model"
   ]
  },
  {
   "cell_type": "code",
   "execution_count": null,
   "id": "c9e5eb1d-4b42-43f3-b3bd-5d63a750ef43",
   "metadata": {},
   "outputs": [],
   "source": [
    "class MyModel(tf.keras.Model):\n",
    "    def __init__(self):\n",
    "        super(MyModel, self).__init__()\n",
    "        self.conv1 = layers.Conv2D(32, 3, activation='relu')\n",
    "        self.flatten = layers.Flatten()\n",
    "        self.d1 = layers.Dense(128, activation='relu')\n",
    "        self.d2 = layers.Dense(10, activation='softmax')\n",
    "\n",
    "    def call(self, x):\n",
    "        x = self.conv1(x)\n",
    "        x = self.flatten(x)\n",
    "        x = self.d1(x)\n",
    "        return self.d2(x)"
   ]
  },
  {
   "cell_type": "code",
   "execution_count": null,
   "id": "a983d1b9-8846-4d3a-8be0-e7355ff066d1",
   "metadata": {},
   "outputs": [],
   "source": []
  }
 ],
 "metadata": {
  "kernelspec": {
   "display_name": "Python 3 (ipykernel)",
   "language": "python",
   "name": "python3"
  },
  "language_info": {
   "codemirror_mode": {
    "name": "ipython",
    "version": 3
   },
   "file_extension": ".py",
   "mimetype": "text/x-python",
   "name": "python",
   "nbconvert_exporter": "python",
   "pygments_lexer": "ipython3",
   "version": "3.8.10"
  }
 },
 "nbformat": 4,
 "nbformat_minor": 5
}
