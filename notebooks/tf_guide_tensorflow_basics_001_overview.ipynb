{
 "cells": [
  {
   "cell_type": "markdown",
   "id": "982d545a-3f89-4361-8d6d-512e4e76bb29",
   "metadata": {},
   "source": [
    "# tf_guide_tensorflow_basics_001_overview\n",
    "- https://www.tensorflow.org/guide/basics"
   ]
  },
  {
   "cell_type": "code",
   "execution_count": 1,
   "id": "f2621761-d53a-413a-9cc2-5063c75c9c7b",
   "metadata": {},
   "outputs": [],
   "source": [
    "import numpy as np\n",
    "import tensorflow as tf"
   ]
  },
  {
   "cell_type": "markdown",
   "id": "f77746cf-10f2-4740-a679-193234f1658f",
   "metadata": {},
   "source": [
    "## Operator"
   ]
  },
  {
   "cell_type": "markdown",
   "id": "f3d046de-3bdc-4285-bf63-e03e1e1bbfd3",
   "metadata": {},
   "source": [
    "- list型を演算にいれれば、出力は自動的にTensorになる\n",
    "- `tf.constant`に入れればそのまま変換できる。\n",
    "- numpy配列も同様に。"
   ]
  },
  {
   "cell_type": "code",
   "execution_count": 2,
   "id": "da754de1-c653-4224-a022-f252332f0671",
   "metadata": {},
   "outputs": [
    {
     "name": "stdout",
     "output_type": "stream",
     "text": [
      "tf.Tensor(\n",
      "[[1. 2. 3.]\n",
      " [4. 5. 6.]], shape=(2, 3), dtype=float32)\n",
      "(2, 3)\n",
      "<dtype: 'float32'>\n"
     ]
    }
   ],
   "source": [
    "x = tf.constant([[1., 2., 3.],\n",
    "                 [4., 5., 6.]])\n",
    "\n",
    "print(x)\n",
    "print(x.shape)\n",
    "print(x.dtype)"
   ]
  },
  {
   "cell_type": "markdown",
   "id": "3f67e387-0c05-4692-bb19-4879ff96bae6",
   "metadata": {},
   "source": [
    "- numpyのように演算可能"
   ]
  },
  {
   "cell_type": "code",
   "execution_count": 3,
   "id": "43039f90-3c75-4f77-8be7-c302993b127e",
   "metadata": {},
   "outputs": [
    {
     "name": "stdout",
     "output_type": "stream",
     "text": [
      "tf.Tensor(\n",
      "[[ 2.  4.  6.]\n",
      " [ 8. 10. 12.]], shape=(2, 3), dtype=float32)\n",
      "tf.Tensor(\n",
      "[[ 5. 10. 15.]\n",
      " [20. 25. 30.]], shape=(2, 3), dtype=float32)\n"
     ]
    }
   ],
   "source": [
    "print(x + x)\n",
    "print(5 * x)"
   ]
  },
  {
   "cell_type": "markdown",
   "id": "e222bf3e-8bce-4dc8-ba34-783a7720cc95",
   "metadata": {},
   "source": [
    "- 転置"
   ]
  },
  {
   "cell_type": "code",
   "execution_count": 4,
   "id": "acfdd09d-9f52-4831-8ae0-f6648f5c2321",
   "metadata": {},
   "outputs": [
    {
     "data": {
      "text/plain": [
       "<tf.Tensor: shape=(3, 2), dtype=float32, numpy=\n",
       "array([[1., 4.],\n",
       "       [2., 5.],\n",
       "       [3., 6.]], dtype=float32)>"
      ]
     },
     "execution_count": 4,
     "metadata": {},
     "output_type": "execute_result"
    }
   ],
   "source": [
    "tf.transpose(x)"
   ]
  },
  {
   "cell_type": "markdown",
   "id": "956085a9-97a0-4715-9703-baf931f28f3a",
   "metadata": {},
   "source": [
    "- 行列積"
   ]
  },
  {
   "cell_type": "code",
   "execution_count": 5,
   "id": "ab7dfd9c-ac6d-459e-b32c-811c7a185a43",
   "metadata": {},
   "outputs": [
    {
     "data": {
      "text/plain": [
       "<tf.Tensor: shape=(2, 2), dtype=float32, numpy=\n",
       "array([[14., 32.],\n",
       "       [32., 77.]], dtype=float32)>"
      ]
     },
     "execution_count": 5,
     "metadata": {},
     "output_type": "execute_result"
    }
   ],
   "source": [
    "x @ tf.transpose(x)"
   ]
  },
  {
   "cell_type": "markdown",
   "id": "3d0f6c78-a32f-4bee-b4cc-05be2d8b3f22",
   "metadata": {},
   "source": [
    "- 連結"
   ]
  },
  {
   "cell_type": "code",
   "execution_count": 6,
   "id": "0de73096-abae-4ef8-b892-e90cd4c4754b",
   "metadata": {},
   "outputs": [
    {
     "data": {
      "text/plain": [
       "<tf.Tensor: shape=(6, 3), dtype=float32, numpy=\n",
       "array([[1., 2., 3.],\n",
       "       [4., 5., 6.],\n",
       "       [1., 2., 3.],\n",
       "       [4., 5., 6.],\n",
       "       [1., 2., 3.],\n",
       "       [4., 5., 6.]], dtype=float32)>"
      ]
     },
     "execution_count": 6,
     "metadata": {},
     "output_type": "execute_result"
    }
   ],
   "source": [
    "tf.concat([x, x, x], axis=0)"
   ]
  },
  {
   "cell_type": "markdown",
   "id": "1473b123-88a0-49f4-a037-09c25d33a442",
   "metadata": {},
   "source": [
    "- softmax"
   ]
  },
  {
   "cell_type": "code",
   "execution_count": 7,
   "id": "cf3b69ff-4c4b-4192-a9a8-6cc34bc79272",
   "metadata": {},
   "outputs": [
    {
     "data": {
      "text/plain": [
       "<tf.Tensor: shape=(2, 3), dtype=float32, numpy=\n",
       "array([[0.09003057, 0.24472848, 0.6652409 ],\n",
       "       [0.09003057, 0.24472848, 0.6652409 ]], dtype=float32)>"
      ]
     },
     "execution_count": 7,
     "metadata": {},
     "output_type": "execute_result"
    }
   ],
   "source": [
    "tf.nn.softmax(x, axis=-1)"
   ]
  },
  {
   "cell_type": "markdown",
   "id": "100aae99-060e-4990-9368-754f03deb6fb",
   "metadata": {},
   "source": [
    "- すべての合計"
   ]
  },
  {
   "cell_type": "code",
   "execution_count": 8,
   "id": "f818eff7-7d7c-4491-b28f-8c3bb3860fef",
   "metadata": {},
   "outputs": [
    {
     "data": {
      "text/plain": [
       "<tf.Tensor: shape=(), dtype=float32, numpy=21.0>"
      ]
     },
     "execution_count": 8,
     "metadata": {},
     "output_type": "execute_result"
    }
   ],
   "source": [
    "tf.reduce_sum(x)"
   ]
  },
  {
   "cell_type": "markdown",
   "id": "56cb25a1-332a-4098-b51d-54e1d957280d",
   "metadata": {},
   "source": [
    "- tensorからnumpyへ戻す場合はこのようにする。"
   ]
  },
  {
   "cell_type": "code",
   "execution_count": 9,
   "id": "a5e4db5c-3d7e-4221-a25c-5dd6f9379569",
   "metadata": {},
   "outputs": [
    {
     "name": "stdout",
     "output_type": "stream",
     "text": [
      "[[1. 2. 3.]\n",
      " [4. 5. 6.]]\n"
     ]
    }
   ],
   "source": [
    "# Tensor から numpy の値を得る\n",
    "print(x.numpy())"
   ]
  },
  {
   "cell_type": "markdown",
   "id": "a386a1d8-c30f-410b-a67f-848e150ab23c",
   "metadata": {},
   "source": [
    "- GPU使用状況確認"
   ]
  },
  {
   "cell_type": "code",
   "execution_count": 10,
   "id": "9c2216d7-0c15-450b-9c12-0bf93b70a393",
   "metadata": {},
   "outputs": [
    {
     "name": "stdout",
     "output_type": "stream",
     "text": [
      "TensorFlow **IS** using the GPU\n"
     ]
    }
   ],
   "source": [
    "if tf.config.list_physical_devices('GPU'):\n",
    "    print(\"TensorFlow **IS** using the GPU\")\n",
    "else:\n",
    "    print(\"TensorFlow **IS NOT** using the GPU\")"
   ]
  },
  {
   "cell_type": "markdown",
   "id": "0a86f345-a2ea-4456-9a49-64990d6b84a6",
   "metadata": {},
   "source": [
    "## Variable\n",
    "- Tensorはimmutable(変更不可能)です。\n",
    "- なので学習する重みなど変更する数値はVariableを使います。"
   ]
  },
  {
   "cell_type": "code",
   "execution_count": 11,
   "id": "69478cdf-09f9-4fee-b7a7-e4d6212059a2",
   "metadata": {},
   "outputs": [
    {
     "name": "stdout",
     "output_type": "stream",
     "text": [
      "tf.Tensor(\n",
      "[[1. 2. 3.]\n",
      " [4. 5. 6.]], shape=(2, 3), dtype=float32)\n",
      "<tf.Variable 'Variable:0' shape=(2, 3) dtype=float32, numpy=\n",
      "array([[1., 2., 3.],\n",
      "       [4., 5., 6.]], dtype=float32)>\n"
     ]
    }
   ],
   "source": [
    "print(x)\n",
    "var = tf.Variable(x)\n",
    "print(var)"
   ]
  },
  {
   "cell_type": "code",
   "execution_count": 12,
   "id": "b3b4dc1d-9891-4c0e-b4ec-d16e2dee48e7",
   "metadata": {},
   "outputs": [
    {
     "data": {
      "text/plain": [
       "<tf.Variable 'UnreadVariable' shape=(2, 3) dtype=float32, numpy=\n",
       "array([[1., 2., 3.],\n",
       "       [4., 5., 6.]], dtype=float32)>"
      ]
     },
     "execution_count": 12,
     "metadata": {},
     "output_type": "execute_result"
    }
   ],
   "source": [
    "var.assign([[1, 2, 3],[4, 5, 6]])"
   ]
  },
  {
   "cell_type": "code",
   "execution_count": 13,
   "id": "ef5d11b7-9954-4a32-983c-6367b7282931",
   "metadata": {},
   "outputs": [
    {
     "data": {
      "text/plain": [
       "<tf.Variable 'UnreadVariable' shape=(2, 3) dtype=float32, numpy=\n",
       "array([[2., 3., 4.],\n",
       "       [5., 6., 7.]], dtype=float32)>"
      ]
     },
     "execution_count": 13,
     "metadata": {},
     "output_type": "execute_result"
    }
   ],
   "source": [
    "var.assign_add([[1,1,1],[1,1,1]])"
   ]
  },
  {
   "cell_type": "markdown",
   "id": "59ae22f1-93e8-4eef-a50f-6ade1c517d05",
   "metadata": {},
   "source": [
    "## Automatic differentiation(自動微分)\n",
    "- 勾配降下法のために、tensorflowは自動微分を実行することができる。\n",
    "- 一般的には、損失関数をモデルパラメータで微分したものを得る。"
   ]
  },
  {
   "cell_type": "code",
   "execution_count": 14,
   "id": "05bb6c13-391a-481e-a2f0-f0562ce84d2b",
   "metadata": {},
   "outputs": [
    {
     "data": {
      "text/plain": [
       "<tf.Tensor: shape=(), dtype=float32, numpy=-2.0>"
      ]
     },
     "execution_count": 14,
     "metadata": {},
     "output_type": "execute_result"
    }
   ],
   "source": [
    "def f(x):\n",
    "    y = x**2 + 2*x - 5\n",
    "    return y\n",
    "\n",
    "x = tf.Variable(1.0)\n",
    "f(x)"
   ]
  },
  {
   "cell_type": "markdown",
   "id": "0c6a72e8-3a9a-4970-9648-61581575208f",
   "metadata": {},
   "source": [
    "- `tf.GradientTape`というcontextでラップすることで微分を記録できる。"
   ]
  },
  {
   "cell_type": "code",
   "execution_count": 15,
   "id": "538d32d2-d277-4b2c-b113-60d396ba5383",
   "metadata": {},
   "outputs": [
    {
     "data": {
      "text/plain": [
       "<tf.Tensor: shape=(), dtype=float32, numpy=4.0>"
      ]
     },
     "execution_count": 15,
     "metadata": {},
     "output_type": "execute_result"
    }
   ],
   "source": [
    "with tf.GradientTape() as tape:\n",
    "    y = f(x)\n",
    "\n",
    "g_x = tape.gradient(y, x)\n",
    "g_x"
   ]
  },
  {
   "cell_type": "markdown",
   "id": "1f59f1fc-be0b-4d33-b52b-4188bde6511e",
   "metadata": {},
   "source": [
    "- 以下のような場合、微分値はNoneで返却される。\n",
    "  - VariableではなくTensorを使った変数\n",
    "  - `with tf.GradientTape()`内でyと接続されなかった変数"
   ]
  },
  {
   "cell_type": "code",
   "execution_count": 16,
   "id": "ccca97cb-461b-41c2-8eda-966bee2e335b",
   "metadata": {},
   "outputs": [
    {
     "name": "stdout",
     "output_type": "stream",
     "text": [
      "tf.Tensor(1.0, shape=(), dtype=float32)\n",
      "<tf.Variable 'Variable:0' shape=() dtype=float32, numpy=1.0>\n"
     ]
    }
   ],
   "source": [
    "x2 = tf.constant(1.0)\n",
    "print(x2)\n",
    "x3 = tf.Variable(1.0)\n",
    "print(x3)"
   ]
  },
  {
   "cell_type": "code",
   "execution_count": 17,
   "id": "d171da7e-4d8f-41da-8926-0ffb53c67968",
   "metadata": {},
   "outputs": [
    {
     "name": "stdout",
     "output_type": "stream",
     "text": [
      "[<tf.Tensor: shape=(), dtype=float32, numpy=6.0>, None, None]\n"
     ]
    }
   ],
   "source": [
    "with tf.GradientTape() as tape:\n",
    "    y = f(x+x2)\n",
    "\n",
    "g_x = tape.gradient(y, [x, x2, x3])\n",
    "print(g_x)"
   ]
  },
  {
   "cell_type": "markdown",
   "id": "8dc1b888-03c3-4744-9b16-2caffbf4de36",
   "metadata": {},
   "source": [
    "- もう一度gradientを計算することはできないので、複数の変数で微分する場合は、上記のように配列で与える。"
   ]
  },
  {
   "cell_type": "code",
   "execution_count": 18,
   "id": "30633a1a-4820-456a-a0ff-d9cfb52f85df",
   "metadata": {},
   "outputs": [
    {
     "name": "stdout",
     "output_type": "stream",
     "text": [
      "RuntimeError: A non-persistent GradientTape can only be used to compute one set of gradients (or jacobians)\n"
     ]
    }
   ],
   "source": [
    "try:\n",
    "    g_x = tape.gradient(y, [x, x2, x3])\n",
    "    print(g_x)\n",
    "except Exception as e:\n",
    "    print(f\"{type(e).__name__}: {e}\")"
   ]
  },
  {
   "cell_type": "markdown",
   "id": "fa1877d3-5438-4fa1-aee3-d8be42e71c69",
   "metadata": {},
   "source": [
    "## tf.functionデコレータ\n",
    "\n",
    "- `@tf.function`により学習と推論のパフォーマンスを最適化することができます。\n",
    "- `tf.saved_model`を使いモデルをエクスポートすれば、Pythonがなくとも他システムで実行することが可能です。\n",
    "  - ここに詳しく記載がある。https://www.tensorflow.org/guide/saved_model\n",
    "  - TFLite, TensorFlow.js, TensorFlow Serving, or TensorFlow Hubを使えば、ということのように見える。"
   ]
  },
  {
   "cell_type": "code",
   "execution_count": 19,
   "id": "bfcdbcfd-3563-45d2-8c90-07079ef598c6",
   "metadata": {},
   "outputs": [],
   "source": [
    "@tf.function\n",
    "def my_func(x):\n",
    "    print('Tracing.\\n')\n",
    "    return tf.reduce_sum(x)"
   ]
  },
  {
   "cell_type": "markdown",
   "id": "8ff632be-c7b6-4635-9916-66030a5d3b1f",
   "metadata": {},
   "source": [
    "- 初回は通常のPython実行と同様の動作となります。\n",
    "- この時に、最適化されたグラフを生成します。"
   ]
  },
  {
   "cell_type": "code",
   "execution_count": 20,
   "id": "a23b9eee-cf41-417e-9f35-62d0b8cd0b41",
   "metadata": {},
   "outputs": [
    {
     "name": "stdout",
     "output_type": "stream",
     "text": [
      "Tracing.\n",
      "\n"
     ]
    },
    {
     "data": {
      "text/plain": [
       "<tf.Tensor: shape=(), dtype=int32, numpy=6>"
      ]
     },
     "execution_count": 20,
     "metadata": {},
     "output_type": "execute_result"
    }
   ],
   "source": [
    "x = tf.constant([1, 2, 3])\n",
    "my_func(x)"
   ]
  },
  {
   "cell_type": "markdown",
   "id": "e3666621-b9d3-4fa4-b65f-26fdc977aef5",
   "metadata": {},
   "source": [
    "- 次回以降は、最適化されたグラフのみを実行します。\n",
    "- print分はtensorflowの処理ではないためスキップされます。"
   ]
  },
  {
   "cell_type": "code",
   "execution_count": 21,
   "id": "9569131b-15ae-421c-9235-9838ec6f0f93",
   "metadata": {},
   "outputs": [
    {
     "data": {
      "text/plain": [
       "<tf.Tensor: shape=(), dtype=int32, numpy=27>"
      ]
     },
     "execution_count": 21,
     "metadata": {},
     "output_type": "execute_result"
    }
   ],
   "source": [
    "x = tf.constant([10, 9, 8])\n",
    "my_func(x)"
   ]
  },
  {
   "cell_type": "markdown",
   "id": "26fe6c44-cfd1-4af4-a4ee-f4036ec50761",
   "metadata": {},
   "source": [
    "- グラフは、入力されるshapeやdtypeが変化すると新しく生成されます。\n",
    "- 新しく生成された場合でも、以前のグラフは残ります。"
   ]
  },
  {
   "cell_type": "code",
   "execution_count": 22,
   "id": "c8e88946-b807-4820-8531-20aaa05dc56d",
   "metadata": {},
   "outputs": [
    {
     "name": "stdout",
     "output_type": "stream",
     "text": [
      "Tracing.\n",
      "\n"
     ]
    },
    {
     "data": {
      "text/plain": [
       "<tf.Tensor: shape=(), dtype=float32, numpy=27.3>"
      ]
     },
     "execution_count": 22,
     "metadata": {},
     "output_type": "execute_result"
    }
   ],
   "source": [
    "x = tf.constant([10.0, 9.1, 8.2], dtype=tf.float32)\n",
    "my_func(x)"
   ]
  },
  {
   "cell_type": "markdown",
   "id": "9aa6bbea-bb3b-4d80-a5b7-f00bc4620540",
   "metadata": {},
   "source": [
    "## Modules, layers and models\n",
    "\n",
    "- 自作のModuleは以下のように`tf.Module`を継承して作成します。"
   ]
  },
  {
   "cell_type": "code",
   "execution_count": 23,
   "id": "fcd4a7e7-a3fd-4cd4-ac4f-fec4cc829931",
   "metadata": {},
   "outputs": [],
   "source": [
    "class MyModule(tf.Module):\n",
    "    def __init__(self, value):\n",
    "        self.weight = tf.Variable(value)\n",
    "\n",
    "    @tf.function\n",
    "    def multiply(self, x):\n",
    "        return x * self.weight"
   ]
  },
  {
   "cell_type": "code",
   "execution_count": 24,
   "id": "1ecda79a-f904-468c-a6fc-365f8a10c927",
   "metadata": {},
   "outputs": [
    {
     "data": {
      "text/plain": [
       "<tf.Tensor: shape=(3,), dtype=int32, numpy=array([3, 6, 9])>"
      ]
     },
     "execution_count": 24,
     "metadata": {},
     "output_type": "execute_result"
    }
   ],
   "source": [
    "mod = MyModule(3)\n",
    "mod.multiply(tf.constant([1, 2, 3]))"
   ]
  },
  {
   "cell_type": "markdown",
   "id": "1bad369f-7e67-4ae9-b2a1-ed28321d6dbc",
   "metadata": {},
   "source": [
    "- Moduleは以下のように保存ができます。"
   ]
  },
  {
   "cell_type": "code",
   "execution_count": 25,
   "id": "83885132-ae5b-4db5-b8b8-8fcfea59dbed",
   "metadata": {},
   "outputs": [
    {
     "name": "stdout",
     "output_type": "stream",
     "text": [
      "INFO:tensorflow:Assets written to: ./saved\\assets\n"
     ]
    }
   ],
   "source": [
    "save_path = './saved'\n",
    "tf.saved_model.save(mod, save_path)"
   ]
  },
  {
   "cell_type": "markdown",
   "id": "63f7c6e4-e12b-4c31-aff2-27362d81c0b8",
   "metadata": {},
   "source": [
    "- 出力されたモデルは、コードと独立しており、Tensorflow Serving, Tensorflow Lite, TensorFlow JSから呼び出すことが可能です。"
   ]
  },
  {
   "cell_type": "code",
   "execution_count": 26,
   "id": "c8dbb8c6-9caa-4072-867a-51570d10227f",
   "metadata": {},
   "outputs": [
    {
     "data": {
      "text/plain": [
       "<tf.Tensor: shape=(3,), dtype=int32, numpy=array([3, 6, 9])>"
      ]
     },
     "execution_count": 26,
     "metadata": {},
     "output_type": "execute_result"
    }
   ],
   "source": [
    "reloaded = tf.saved_model.load(save_path)\n",
    "reloaded.multiply(tf.constant([1, 2, 3]))"
   ]
  },
  {
   "cell_type": "markdown",
   "id": "402e6b97-a92e-4073-bb74-95f487d9f875",
   "metadata": {},
   "source": [
    "- `tf.keras.layers`や`tf.keras.Model`は、この`tf.Module`をベースに提供されています。"
   ]
  },
  {
   "cell_type": "markdown",
   "id": "2e8eb8a3-2d4c-406c-805b-9c772bed4dc3",
   "metadata": {},
   "source": [
    "## Training loops\n",
    "\n",
    "- 実際の学習として線形モデルの構築をやる。"
   ]
  },
  {
   "cell_type": "code",
   "execution_count": 27,
   "id": "10e70068-eb59-4e50-aa19-f35e5f36d195",
   "metadata": {},
   "outputs": [],
   "source": [
    "import matplotlib\n",
    "from matplotlib import pyplot as plt\n",
    "\n",
    "matplotlib.rcParams['figure.figsize'] = [9, 6]"
   ]
  },
  {
   "cell_type": "markdown",
   "id": "9132ae69-6c53-432c-8a5c-67fdcd974239",
   "metadata": {},
   "source": [
    "- ground truthに正規分布のノイズを乗せたデータを作成。"
   ]
  },
  {
   "cell_type": "code",
   "execution_count": 28,
   "id": "c654a08c-251b-473f-9af5-ed59918f432a",
   "metadata": {},
   "outputs": [
    {
     "data": {
      "image/png": "[encoded data removed]",
      "text/plain": [
       "<Figure size 648x432 with 1 Axes>"
      ]
     },
     "metadata": {
      "needs_background": "light"
     },
     "output_type": "display_data"
    }
   ],
   "source": [
    "x = tf.linspace(-2, 2, 201)\n",
    "x = tf.cast(x, tf.float32)\n",
    "\n",
    "def f(x):\n",
    "    y = x**2 + 2*x - 5\n",
    "    return y\n",
    "\n",
    "y = f(x) + tf.random.normal(shape=[201])\n",
    "\n",
    "plt.plot(x.numpy(), y.numpy(), '.', label='Data')\n",
    "plt.plot(x, f(x),  label='Ground truth')\n",
    "plt.legend();"
   ]
  },
  {
   "cell_type": "code",
   "execution_count": 29,
   "id": "30f2f43f-5344-4bc2-95ed-dafccfaf6ac1",
   "metadata": {},
   "outputs": [],
   "source": [
    "class Model(tf.keras.Model):\n",
    "    def __init__(self, units):\n",
    "        super().__init__()\n",
    "        self.dense1 = tf.keras.layers.Dense(units=units,\n",
    "                                            activation=tf.nn.relu,\n",
    "                                            kernel_initializer=tf.random.normal,\n",
    "                                            bias_initializer=tf.random.normal)\n",
    "        self.dense2 = tf.keras.layers.Dense(1)\n",
    "\n",
    "    def call(self, x, training=True):\n",
    "        # For Keras layers/models, implement `call` instead of `__call__`.\n",
    "        x = x[:, tf.newaxis]\n",
    "        x = self.dense1(x)\n",
    "        x = self.dense2(x)\n",
    "        return tf.squeeze(x, axis=1)"
   ]
  },
  {
   "cell_type": "code",
   "execution_count": 30,
   "id": "441e4d34-d256-4ee9-a5c3-2aa5e3e092c1",
   "metadata": {},
   "outputs": [],
   "source": [
    "model = Model(64)"
   ]
  },
  {
   "cell_type": "markdown",
   "id": "e1ee1117-5bce-493c-b15e-865727eed2d2",
   "metadata": {},
   "source": [
    "- 学習前のモデル"
   ]
  },
  {
   "cell_type": "code",
   "execution_count": 31,
   "id": "b763edc8-91b2-492e-8268-3ce52e31af6b",
   "metadata": {},
   "outputs": [
    {
     "data": {
      "image/png": "[encoded data removed]",
      "text/plain": [
       "<Figure size 648x432 with 1 Axes>"
      ]
     },
     "metadata": {
      "needs_background": "light"
     },
     "output_type": "display_data"
    }
   ],
   "source": [
    "plt.plot(x.numpy(), y.numpy(), '.', label='data')\n",
    "plt.plot(x, f(x),  label='Ground truth')\n",
    "plt.plot(x, model(x), label='Untrained predictions')\n",
    "plt.title('Before training')\n",
    "plt.legend();"
   ]
  },
  {
   "cell_type": "markdown",
   "id": "22f422fb-c60a-4954-8b9a-3afd84be7756",
   "metadata": {},
   "source": [
    "- 学習処理"
   ]
  },
  {
   "cell_type": "code",
   "execution_count": 32,
   "id": "b782eb61-8888-48df-8d5b-29368aea8739",
   "metadata": {},
   "outputs": [
    {
     "name": "stdout",
     "output_type": "stream",
     "text": [
      "Mean squared error: 42.523\n",
      "Mean squared error: 1.111\n",
      "Mean squared error: 1.087\n",
      "Mean squared error: 1.074\n",
      "Mean squared error: 1.066\n",
      "Mean squared error: 1.060\n",
      "Mean squared error: 1.056\n",
      "Mean squared error: 1.053\n",
      "Mean squared error: 1.050\n",
      "Mean squared error: 1.048\n"
     ]
    }
   ],
   "source": [
    "variables = model.variables\n",
    "\n",
    "optimizer = tf.optimizers.SGD(learning_rate=0.01)\n",
    "\n",
    "for step in range(1000):\n",
    "    with tf.GradientTape() as tape:\n",
    "        prediction = model(x)\n",
    "        error = (y-prediction)**2\n",
    "        mean_error = tf.reduce_mean(error) # MSE\n",
    "\n",
    "    gradient = tape.gradient(mean_error, variables)\n",
    "    optimizer.apply_gradients(zip(gradient, variables))\n",
    "\n",
    "    if step % 100 == 0:\n",
    "        print(f'Mean squared error: {mean_error.numpy():0.3f}')"
   ]
  },
  {
   "cell_type": "code",
   "execution_count": 33,
   "id": "36bb548b-f589-4952-9040-215071e2cc7b",
   "metadata": {},
   "outputs": [
    {
     "data": {
      "image/png": "[encoded data removed]",
      "text/plain": [
       "<Figure size 648x432 with 1 Axes>"
      ]
     },
     "metadata": {
      "needs_background": "light"
     },
     "output_type": "display_data"
    }
   ],
   "source": [
    "plt.plot(x.numpy(),y.numpy(), '.', label=\"data\")\n",
    "plt.plot(x, f(x),  label='Ground truth')\n",
    "plt.plot(x, model(x), label='Trained predictions')\n",
    "plt.title('After training')\n",
    "plt.legend();"
   ]
  },
  {
   "cell_type": "markdown",
   "id": "cfed0eee-525a-48d6-b95a-daa83478c798",
   "metadata": {},
   "source": [
    "- ラップされた学習\n",
    "  - 先ほどの例はスクラッチで構築する場合で、実際はもっと高レベルのAPIで実現できる。"
   ]
  },
  {
   "cell_type": "code",
   "execution_count": 34,
   "id": "e1e9cbbe-3b5b-4a83-84cc-eb9c3c57a424",
   "metadata": {},
   "outputs": [],
   "source": [
    "new_model = Model(64)"
   ]
  },
  {
   "cell_type": "code",
   "execution_count": 35,
   "id": "ff3fdb17-e411-4375-85d5-cd7fc40bb472",
   "metadata": {},
   "outputs": [
    {
     "name": "stdout",
     "output_type": "stream",
     "text": [
      "INFO:tensorflow:Assets written to: ./my_model\\assets\n"
     ]
    }
   ],
   "source": [
    "new_model.compile(\n",
    "    loss=tf.keras.losses.MSE,\n",
    "    optimizer=tf.optimizers.SGD(learning_rate=0.01))\n",
    "\n",
    "history = new_model.fit(x, y,\n",
    "                        epochs=100,\n",
    "                        batch_size=32,\n",
    "                        verbose=0)\n",
    "\n",
    "model.save('./my_model')"
   ]
  },
  {
   "cell_type": "code",
   "execution_count": 36,
   "id": "8c0d2966-07b6-43f1-b5df-b8738314805d",
   "metadata": {},
   "outputs": [
    {
     "data": {
      "image/png": "[encoded data removed]",
      "text/plain": [
       "<Figure size 648x432 with 1 Axes>"
      ]
     },
     "metadata": {
      "needs_background": "light"
     },
     "output_type": "display_data"
    }
   ],
   "source": [
    "plt.plot(history.history['loss'])\n",
    "plt.xlabel('Epoch')\n",
    "plt.ylim([0, max(plt.ylim())])\n",
    "plt.ylabel('Loss [Mean Squared Error]')\n",
    "plt.title('Keras training progress');"
   ]
  },
  {
   "cell_type": "code",
   "execution_count": 37,
   "id": "d07e92cd-918d-4a95-88a8-5ab07e096406",
   "metadata": {},
   "outputs": [],
   "source": [
    "# 以上"
   ]
  }
 ],
 "metadata": {
  "kernelspec": {
   "display_name": "Python 3 (ipykernel)",
   "language": "python",
   "name": "python3"
  },
  "language_info": {
   "codemirror_mode": {
    "name": "ipython",
    "version": 3
   },
   "file_extension": ".py",
   "mimetype": "text/x-python",
   "name": "python",
   "nbconvert_exporter": "python",
   "pygments_lexer": "ipython3",
   "version": "3.8.10"
  }
 },
 "nbformat": 4,
 "nbformat_minor": 5
}
