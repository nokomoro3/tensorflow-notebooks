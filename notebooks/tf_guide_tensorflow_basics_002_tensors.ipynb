{
 "cells": [
  {
   "cell_type": "markdown",
   "id": "c123d55e-d239-452a-9fbd-5ed12d80eaba",
   "metadata": {},
   "source": [
    "# tf_guide_tensorflow_basics_002_tensors\n",
    "\n",
    "- tensorはnumpy配列のような操作ができる。\n",
    "- すべてのtensorはimmutableであり変更できないため、新しいものを作成することだけができる。"
   ]
  },
  {
   "cell_type": "code",
   "execution_count": 2,
   "id": "dbb0afef-32ba-4181-9d8d-a5e849f17214",
   "metadata": {},
   "outputs": [],
   "source": [
    "import tensorflow as tf\n",
    "import numpy as np"
   ]
  },
  {
   "cell_type": "markdown",
   "id": "da539ec2-7e77-4f21-b08e-6934ff63ab68",
   "metadata": {},
   "source": [
    "## basics"
   ]
  },
  {
   "cell_type": "markdown",
   "id": "eaaacbcf-56e4-4d9d-be9f-7b5ec454a9ef",
   "metadata": {},
   "source": [
    "- rank-0のテンソルはスカラーであり、軸を持たない。"
   ]
  },
  {
   "cell_type": "code",
   "execution_count": 4,
   "id": "b2852255-eebe-4d2c-bac2-58a6b339a7fc",
   "metadata": {},
   "outputs": [
    {
     "name": "stdout",
     "output_type": "stream",
     "text": [
      "tf.Tensor(4, shape=(), dtype=int32)\n"
     ]
    }
   ],
   "source": [
    "# This will be an int32 tensor by default; see \"dtypes\" below.\n",
    "rank_0_tensor = tf.constant(4)\n",
    "print(rank_0_tensor)"
   ]
  },
  {
   "cell_type": "markdown",
   "id": "6e16c6c8-cfed-4105-9695-75e25ca7063c",
   "metadata": {},
   "source": [
    "- rank-1のテンソルはベクトルであり、軸を１つもつ。"
   ]
  },
  {
   "cell_type": "code",
   "execution_count": 5,
   "id": "ce7d034d-fc2b-4d05-981d-582f39fb3e4e",
   "metadata": {},
   "outputs": [
    {
     "name": "stdout",
     "output_type": "stream",
     "text": [
      "tf.Tensor([2. 3. 4.], shape=(3,), dtype=float32)\n"
     ]
    }
   ],
   "source": [
    "# Let's make this a float tensor.\n",
    "rank_1_tensor = tf.constant([2.0, 3.0, 4.0])\n",
    "print(rank_1_tensor)"
   ]
  },
  {
   "cell_type": "markdown",
   "id": "13414146-1abd-406d-8d88-6a1747d86615",
   "metadata": {},
   "source": [
    "- rank-2のテンソルは行列(matrix)であり、２つの軸を持つ。"
   ]
  },
  {
   "cell_type": "code",
   "execution_count": 6,
   "id": "a7935011-c080-4059-9b26-054de3d64e50",
   "metadata": {},
   "outputs": [
    {
     "name": "stdout",
     "output_type": "stream",
     "text": [
      "tf.Tensor(\n",
      "[[1. 2.]\n",
      " [3. 4.]\n",
      " [5. 6.]], shape=(3, 2), dtype=float16)\n"
     ]
    }
   ],
   "source": [
    "# If you want to be specific, you can set the dtype (see below) at creation time\n",
    "rank_2_tensor = tf.constant([[1, 2],\n",
    "                             [3, 4],\n",
    "                             [5, 6]], dtype=tf.float16)\n",
    "print(rank_2_tensor)"
   ]
  },
  {
   "cell_type": "markdown",
   "id": "4a9c8e7a-7165-4532-aad2-b8941853d5c7",
   "metadata": {},
   "source": [
    "- テンソルはこれ以上の軸を持つこともできる。以下は３軸の例である。"
   ]
  },
  {
   "cell_type": "code",
   "execution_count": 7,
   "id": "5b1a788f-3dc3-4abd-b34f-6e6aa6fbff3d",
   "metadata": {},
   "outputs": [
    {
     "name": "stdout",
     "output_type": "stream",
     "text": [
      "tf.Tensor(\n",
      "[[[ 0  1  2  3  4]\n",
      "  [ 5  6  7  8  9]]\n",
      "\n",
      " [[10 11 12 13 14]\n",
      "  [15 16 17 18 19]]\n",
      "\n",
      " [[20 21 22 23 24]\n",
      "  [25 26 27 28 29]]], shape=(3, 2, 5), dtype=int32)\n"
     ]
    }
   ],
   "source": [
    "# There can be an arbitrary number of\n",
    "# axes (sometimes called \"dimensions\")\n",
    "rank_3_tensor = tf.constant([\n",
    "  [[0, 1, 2, 3, 4],\n",
    "   [5, 6, 7, 8, 9]],\n",
    "  [[10, 11, 12, 13, 14],\n",
    "   [15, 16, 17, 18, 19]],\n",
    "  [[20, 21, 22, 23, 24],\n",
    "   [25, 26, 27, 28, 29]],])\n",
    "\n",
    "print(rank_3_tensor)"
   ]
  },
  {
   "cell_type": "markdown",
   "id": "dcb5cea4-8f05-43e0-aa86-9bc668dbd526",
   "metadata": {},
   "source": [
    "- `np.array`もしくは`tensor.numpy`でtensorはnumpy配列に変換ができる。"
   ]
  },
  {
   "cell_type": "code",
   "execution_count": 8,
   "id": "58200030-c4a7-456a-9375-c3a79eb38970",
   "metadata": {},
   "outputs": [
    {
     "data": {
      "text/plain": [
       "array([[1., 2.],\n",
       "       [3., 4.],\n",
       "       [5., 6.]], dtype=float16)"
      ]
     },
     "execution_count": 8,
     "metadata": {},
     "output_type": "execute_result"
    }
   ],
   "source": [
    "np.array(rank_2_tensor)"
   ]
  },
  {
   "cell_type": "code",
   "execution_count": 9,
   "id": "ba05beb6-cf7c-44d3-beec-b0927aaeac35",
   "metadata": {},
   "outputs": [
    {
     "data": {
      "text/plain": [
       "array([[1., 2.],\n",
       "       [3., 4.],\n",
       "       [5., 6.]], dtype=float16)"
      ]
     },
     "execution_count": 9,
     "metadata": {},
     "output_type": "execute_result"
    }
   ],
   "source": [
    "rank_2_tensor.numpy()"
   ]
  },
  {
   "cell_type": "markdown",
   "id": "bf04add8-14e7-46ec-8fe4-70921ccf0fa2",
   "metadata": {},
   "source": [
    "- 基本的なTensorクラスは矩形であることを要求します。\n",
    "  - つまり要素が同じサイズを持つことが要求される。\n",
    "  - 例外として、RaggedTensorやSparseTensorは要素数が違うものを扱える特殊なテンソルです。"
   ]
  },
  {
   "cell_type": "markdown",
   "id": "3fa0cf24-e222-4288-ac47-0046747754bc",
   "metadata": {},
   "source": [
    "- テンソルには様々な演算が使えます。"
   ]
  },
  {
   "cell_type": "code",
   "execution_count": 12,
   "id": "74092b7d-c613-455e-abd9-4a5de0ba90b5",
   "metadata": {},
   "outputs": [
    {
     "name": "stdout",
     "output_type": "stream",
     "text": [
      "tf.Tensor(\n",
      "[[2 3]\n",
      " [4 5]], shape=(2, 2), dtype=int32) \n",
      "\n",
      "tf.Tensor(\n",
      "[[1 2]\n",
      " [3 4]], shape=(2, 2), dtype=int32) \n",
      "\n",
      "tf.Tensor(\n",
      "[[3 3]\n",
      " [7 7]], shape=(2, 2), dtype=int32) \n",
      "\n"
     ]
    }
   ],
   "source": [
    "a = tf.constant([[1, 2],\n",
    "                 [3, 4]])\n",
    "b = tf.constant([[1, 1],\n",
    "                 [1, 1]]) # Could have also said `tf.ones([2,2])`\n",
    "\n",
    "print(tf.add(a, b), \"\\n\") # 要素毎の加算\n",
    "print(tf.multiply(a, b), \"\\n\") # 要素枚の掛け算\n",
    "print(tf.matmul(a, b), \"\\n\") # 行列積"
   ]
  },
  {
   "cell_type": "markdown",
   "id": "4e5e5582-36aa-4a5a-9d06-4433377e9139",
   "metadata": {},
   "source": [
    "- 上記は以下でも同じことが可能です。"
   ]
  },
  {
   "cell_type": "code",
   "execution_count": 13,
   "id": "cba386ee-2e78-4d7d-9d7c-2fc741a4dcdc",
   "metadata": {},
   "outputs": [
    {
     "name": "stdout",
     "output_type": "stream",
     "text": [
      "tf.Tensor(\n",
      "[[2 3]\n",
      " [4 5]], shape=(2, 2), dtype=int32) \n",
      "\n",
      "tf.Tensor(\n",
      "[[1 2]\n",
      " [3 4]], shape=(2, 2), dtype=int32) \n",
      "\n",
      "tf.Tensor(\n",
      "[[3 3]\n",
      " [7 7]], shape=(2, 2), dtype=int32) \n",
      "\n"
     ]
    }
   ],
   "source": [
    "print(a + b, \"\\n\") # element-wise addition\n",
    "print(a * b, \"\\n\") # element-wise multiplication\n",
    "print(a @ b, \"\\n\") # matrix multiplication"
   ]
  },
  {
   "cell_type": "markdown",
   "id": "9af19f90-c8ed-4c4d-8410-f783606538e9",
   "metadata": {},
   "source": [
    "- Tensorには算術演算だけでなく様々なオペレーションができます。"
   ]
  },
  {
   "cell_type": "code",
   "execution_count": 14,
   "id": "9f9f5313-db71-484e-b037-1b1631d07a74",
   "metadata": {},
   "outputs": [
    {
     "name": "stdout",
     "output_type": "stream",
     "text": [
      "tf.Tensor(10.0, shape=(), dtype=float32)\n",
      "tf.Tensor([1 0], shape=(2,), dtype=int64)\n",
      "tf.Tensor(\n",
      "[[2.6894143e-01 7.3105854e-01]\n",
      " [9.9987662e-01 1.2339458e-04]], shape=(2, 2), dtype=float32)\n"
     ]
    }
   ],
   "source": [
    "c = tf.constant([[4.0, 5.0], [10.0, 1.0]])\n",
    "\n",
    "# Find the largest value\n",
    "print(tf.reduce_max(c))\n",
    "# Find the index of the largest value\n",
    "print(tf.argmax(c))\n",
    "# Compute the softmax\n",
    "print(tf.nn.softmax(c))"
   ]
  },
  {
   "cell_type": "markdown",
   "id": "bbd41c48-4474-446e-a761-d572a3b0e8c5",
   "metadata": {},
   "source": [
    "## About shapes"
   ]
  },
  {
   "cell_type": "markdown",
   "id": "fceac045-3f60-471f-9adf-bd4d8840acc8",
   "metadata": {},
   "source": [
    "- Tensorの仕様を調べるためにいくつかのアプローチがある。\n",
    "  - `tensor.dtype` : 要素の型を調べる。\n",
    "  - `tensor.ndim` : ランク数を調べる。\n",
    "  - `tensor.shape` : 各軸の長さを調べる。\n",
    "  - `tf.size(tensor).numpy()` : 要素の総数を調べる。"
   ]
  },
  {
   "cell_type": "code",
   "execution_count": 15,
   "id": "c82e1ffb-553b-4ecf-82f4-692676defe71",
   "metadata": {},
   "outputs": [],
   "source": [
    "rank_4_tensor = tf.zeros([3, 2, 4, 5])"
   ]
  },
  {
   "cell_type": "code",
   "execution_count": 21,
   "id": "31c9a58e-aa18-415d-b2ea-a8629b8db6ee",
   "metadata": {},
   "outputs": [
    {
     "name": "stdout",
     "output_type": "stream",
     "text": [
      "Type of every element: <dtype: 'float32'>\n",
      "Number of axes: 4\n",
      "Shape of tensor: (3, 2, 4, 5)\n",
      "Elements along axis 0 of tensor: 3\n",
      "Elements along the last axis of tensor: 5\n",
      "Total number of elements (3*2*4*5):  120\n"
     ]
    }
   ],
   "source": [
    "print(\"Type of every element:\", rank_4_tensor.dtype)\n",
    "print(\"Number of axes:\", rank_4_tensor.ndim)\n",
    "print(\"Shape of tensor:\", rank_4_tensor.shape)\n",
    "print(\"Elements along axis 0 of tensor:\", rank_4_tensor.shape[0])\n",
    "print(\"Elements along the last axis of tensor:\", rank_4_tensor.shape[-1])\n",
    "print(\"Total number of elements (3*2*4*5): \", tf.size(rank_4_tensor).numpy())"
   ]
  },
  {
   "cell_type": "markdown",
   "id": "2edfb119-6416-4f27-b2ac-0a5e6906aa70",
   "metadata": {},
   "source": [
    "- 各軸の意味は理解して操作すると、抽象的なイメージより分かりやすい。\n",
    "- 例えば画像の場合、rank-4で以下のように使われることが多い。\n",
    "  - `shape: (batch, width, height, channels)`"
   ]
  },
  {
   "cell_type": "markdown",
   "id": "01027d72-f44f-43ef-841f-17919d24908c",
   "metadata": {},
   "source": [
    "## Indexing\n",
    "- numpyとほぼ同じindex操作ができます。\n",
    "  - `0` originである。\n",
    "  - `-1`などの負のindexは末尾を起点とすることができる。\n",
    "  - `:`でスライスすることができる。`start:stop:step`の形式で、`step`を省略する場合は`step=1`の扱い。"
   ]
  },
  {
   "cell_type": "code",
   "execution_count": 23,
   "id": "30d92d87-4684-4a01-b5f8-9a76e010fe6c",
   "metadata": {},
   "outputs": [
    {
     "name": "stdout",
     "output_type": "stream",
     "text": [
      "[ 0  1  1  2  3  5  8 13 21 34]\n"
     ]
    }
   ],
   "source": [
    "rank_1_tensor = tf.constant([0, 1, 1, 2, 3, 5, 8, 13, 21, 34])\n",
    "print(rank_1_tensor.numpy())"
   ]
  },
  {
   "cell_type": "code",
   "execution_count": 24,
   "id": "972cde19-5b7a-4f33-8e1f-3d187bff187f",
   "metadata": {},
   "outputs": [
    {
     "name": "stdout",
     "output_type": "stream",
     "text": [
      "First: 0\n",
      "Second: 1\n",
      "Last: 34\n",
      "Everything: [ 0  1  1  2  3  5  8 13 21 34]\n",
      "Before 4: [0 1 1 2]\n",
      "From 4 to the end: [ 3  5  8 13 21 34]\n",
      "From 2, before 7: [1 2 3 5 8]\n",
      "Every other item: [ 0  1  3  8 21]\n",
      "Reversed: [34 21 13  8  5  3  2  1  1  0]\n"
     ]
    }
   ],
   "source": [
    "print(\"First:\", rank_1_tensor[0].numpy())\n",
    "print(\"Second:\", rank_1_tensor[1].numpy())\n",
    "print(\"Last:\", rank_1_tensor[-1].numpy())\n",
    "print(\"Everything:\", rank_1_tensor[:].numpy())\n",
    "print(\"Before 4:\", rank_1_tensor[:4].numpy())\n",
    "print(\"From 4 to the end:\", rank_1_tensor[4:].numpy())\n",
    "print(\"From 2, before 7:\", rank_1_tensor[2:7].numpy())\n",
    "print(\"Every other item:\", rank_1_tensor[::2].numpy())\n",
    "print(\"Reversed:\", rank_1_tensor[::-1].numpy())"
   ]
  },
  {
   "cell_type": "markdown",
   "id": "2136faf4-3739-4f95-a8a1-0fa98905c59b",
   "metadata": {},
   "source": [
    "- multi-axis indexingも同様。"
   ]
  },
  {
   "cell_type": "code",
   "execution_count": 27,
   "id": "607af7be-635f-4593-835a-63951fbb723a",
   "metadata": {},
   "outputs": [
    {
     "name": "stdout",
     "output_type": "stream",
     "text": [
      "[[1. 2.]\n",
      " [3. 4.]\n",
      " [5. 6.]]\n",
      "4.0\n",
      "Second row: [3. 4.]\n",
      "Second column: [2. 4. 6.]\n",
      "Last row: [5. 6.]\n",
      "First item in last column: 2.0\n",
      "Skip the first row:\n",
      "[[3. 4.]\n",
      " [5. 6.]] \n",
      "\n"
     ]
    }
   ],
   "source": [
    "print(rank_2_tensor.numpy())\n",
    "\n",
    "# Pull out a single value from a 2-rank tensor\n",
    "print(rank_2_tensor[1, 1].numpy())\n",
    "\n",
    "# Get row and column tensors\n",
    "print(\"Second row:\", rank_2_tensor[1, :].numpy())\n",
    "print(\"Second column:\", rank_2_tensor[:, 1].numpy())\n",
    "print(\"Last row:\", rank_2_tensor[-1, :].numpy())\n",
    "print(\"First item in last column:\", rank_2_tensor[0, -1].numpy())\n",
    "print(\"Skip the first row:\")\n",
    "print(rank_2_tensor[1:, :].numpy(), \"\\n\")"
   ]
  },
  {
   "cell_type": "markdown",
   "id": "e64ed4e7-a625-44fe-b719-d937baf888f0",
   "metadata": {},
   "source": [
    "## Manipulating shapes"
   ]
  },
  {
   "cell_type": "markdown",
   "id": "e2dd3cc5-990c-4f1c-a19c-701d8e57fbb4",
   "metadata": {},
   "source": [
    "- Tensorのshapeを変換する方法。"
   ]
  },
  {
   "cell_type": "code",
   "execution_count": 28,
   "id": "d328fda5-037f-4ac6-b312-ad5aa5a2141c",
   "metadata": {},
   "outputs": [
    {
     "name": "stdout",
     "output_type": "stream",
     "text": [
      "(3, 1)\n"
     ]
    }
   ],
   "source": [
    "# Shape returns a `TensorShape` object that shows the size along each axis\n",
    "x = tf.constant([[1], [2], [3]])\n",
    "print(x.shape)"
   ]
  },
  {
   "cell_type": "code",
   "execution_count": 31,
   "id": "d9b3975a-208a-4ff2-9250-8b2bfe139db2",
   "metadata": {},
   "outputs": [
    {
     "name": "stdout",
     "output_type": "stream",
     "text": [
      "[3, 1]\n"
     ]
    }
   ],
   "source": [
    "# You can convert this object into a Python list, too\n",
    "print(x.shape.as_list())"
   ]
  },
  {
   "cell_type": "code",
   "execution_count": 33,
   "id": "f3bde0ac-c2a3-4c81-961d-4feec71e3ed6",
   "metadata": {},
   "outputs": [
    {
     "name": "stdout",
     "output_type": "stream",
     "text": [
      "(3, 1)\n",
      "(1, 3)\n"
     ]
    }
   ],
   "source": [
    "# You can reshape a tensor to a new shape.\n",
    "# Note that you're passing in a list\n",
    "reshaped = tf.reshape(x, [1, 3])\n",
    "\n",
    "print(x.shape)\n",
    "print(reshaped.shape)"
   ]
  },
  {
   "cell_type": "code",
   "execution_count": 34,
   "id": "59fc1ef4-5162-45c8-af9b-c228ad9b382c",
   "metadata": {},
   "outputs": [
    {
     "name": "stdout",
     "output_type": "stream",
     "text": [
      "tf.Tensor(\n",
      "[[[ 0  1  2  3  4]\n",
      "  [ 5  6  7  8  9]]\n",
      "\n",
      " [[10 11 12 13 14]\n",
      "  [15 16 17 18 19]]\n",
      "\n",
      " [[20 21 22 23 24]\n",
      "  [25 26 27 28 29]]], shape=(3, 2, 5), dtype=int32)\n"
     ]
    }
   ],
   "source": [
    "print(rank_3_tensor)"
   ]
  },
  {
   "cell_type": "markdown",
   "id": "0ba831d1-b210-4263-8ce6-3bd64eca2706",
   "metadata": {},
   "source": [
    "- reshapeしてもデータはメモリ内のレイアウトを維持し、新しい形状のTensorを作成する。\n",
    "- tensorflowはrow-major(行志向、右端のindexのインクリメントがメモリ上の1step)の配列となっている。\n",
    "- flattenをすれば、それがメモリ上に並んでいることがわかる。"
   ]
  },
  {
   "cell_type": "code",
   "execution_count": 35,
   "id": "5e7b749c-d22f-442a-9e80-604b79de4108",
   "metadata": {},
   "outputs": [
    {
     "name": "stdout",
     "output_type": "stream",
     "text": [
      "tf.Tensor(\n",
      "[ 0  1  2  3  4  5  6  7  8  9 10 11 12 13 14 15 16 17 18 19 20 21 22 23\n",
      " 24 25 26 27 28 29], shape=(30,), dtype=int32)\n"
     ]
    }
   ],
   "source": [
    "# A `-1` passed in the `shape` argument says \"Whatever fits\".\n",
    "print(tf.reshape(rank_3_tensor, [-1]))"
   ]
  },
  {
   "cell_type": "markdown",
   "id": "c65b6e66-9ed2-42a7-bf8e-fe06f8b1efd6",
   "metadata": {},
   "source": [
    "- reshapeの合理的な使用方法は、隣接する軸を結合もしくは分割することだけです(これは確かに)。"
   ]
  },
  {
   "cell_type": "code",
   "execution_count": 37,
   "id": "74d46fd5-391e-4f9c-82e2-f6fbd2e62686",
   "metadata": {},
   "outputs": [
    {
     "name": "stdout",
     "output_type": "stream",
     "text": [
      "tf.Tensor(\n",
      "[[ 0  1  2  3  4]\n",
      " [ 5  6  7  8  9]\n",
      " [10 11 12 13 14]\n",
      " [15 16 17 18 19]\n",
      " [20 21 22 23 24]\n",
      " [25 26 27 28 29]], shape=(6, 5), dtype=int32) \n",
      "\n",
      "tf.Tensor(\n",
      "[[ 0  1  2  3  4  5  6  7  8  9]\n",
      " [10 11 12 13 14 15 16 17 18 19]\n",
      " [20 21 22 23 24 25 26 27 28 29]], shape=(3, 10), dtype=int32)\n"
     ]
    }
   ],
   "source": [
    "print(tf.reshape(rank_3_tensor, [3*2, 5]), \"\\n\")\n",
    "print(tf.reshape(rank_3_tensor, [3, -1]))"
   ]
  },
  {
   "cell_type": "markdown",
   "id": "3cf4d7bc-700e-4e38-acd1-bda9ddb81a91",
   "metadata": {},
   "source": [
    "![](./img/tf_guide_tensorflow_basics_002_tensors_2022-03-13-19-42-34.png)"
   ]
  },
  {
   "cell_type": "markdown",
   "id": "eb5d20f1-fa43-4883-8956-e3be3d71979f",
   "metadata": {},
   "source": [
    "- reshapeは順序は変わらないため、軸の入れ替えはできません。\n",
    "- 軸の入れ替えにはtransposeを使用します。\n",
    "- 割り切れる場合は、reshapeに成功しますが、意味をなさないデータ構造となることがわかります。"
   ]
  },
  {
   "cell_type": "code",
   "execution_count": 39,
   "id": "f8205502-e80b-4b8f-ab26-6f4e7cc19ee3",
   "metadata": {},
   "outputs": [
    {
     "name": "stdout",
     "output_type": "stream",
     "text": [
      "tf.Tensor(\n",
      "[[[ 0  1  2  3  4]\n",
      "  [ 5  6  7  8  9]]\n",
      "\n",
      " [[10 11 12 13 14]\n",
      "  [15 16 17 18 19]]\n",
      "\n",
      " [[20 21 22 23 24]\n",
      "  [25 26 27 28 29]]], shape=(3, 2, 5), dtype=int32)\n",
      "tf.Tensor(\n",
      "[[[ 0  1  2  3  4]\n",
      "  [ 5  6  7  8  9]\n",
      "  [10 11 12 13 14]]\n",
      "\n",
      " [[15 16 17 18 19]\n",
      "  [20 21 22 23 24]\n",
      "  [25 26 27 28 29]]], shape=(2, 3, 5), dtype=int32) \n",
      "\n",
      "tf.Tensor(\n",
      "[[ 0  1  2  3  4  5]\n",
      " [ 6  7  8  9 10 11]\n",
      " [12 13 14 15 16 17]\n",
      " [18 19 20 21 22 23]\n",
      " [24 25 26 27 28 29]], shape=(5, 6), dtype=int32) \n",
      "\n",
      "InvalidArgumentError: Input to reshape is a tensor with 30 values, but the requested shape requires a multiple of 7 [Op:Reshape]\n"
     ]
    }
   ],
   "source": [
    "print(rank_3_tensor)\n",
    "\n",
    "# Bad examples: don't do this\n",
    "\n",
    "# You can't reorder axes with reshape.\n",
    "print(tf.reshape(rank_3_tensor, [2, 3, 5]), \"\\n\") \n",
    "\n",
    "# This is a mess\n",
    "print(tf.reshape(rank_3_tensor, [5, 6]), \"\\n\")\n",
    "\n",
    "# This doesn't work at all\n",
    "try:\n",
    "    tf.reshape(rank_3_tensor, [7, -1])\n",
    "except Exception as e:\n",
    "    print(f\"{type(e).__name__}: {e}\")"
   ]
  },
  {
   "cell_type": "markdown",
   "id": "e01d5866-35e7-468d-a9bb-0568440aeba6",
   "metadata": {},
   "source": [
    "![](./img/tf_guide_tensorflow_basics_002_tensors_2022-03-13-19-44-23.png)"
   ]
  },
  {
   "cell_type": "markdown",
   "id": "b57c02ec-1515-4c62-8ae0-00e1f75fafa5",
   "metadata": {},
   "source": [
    "## More on DTypes"
   ]
  },
  {
   "cell_type": "markdown",
   "id": "163b04cf-0e2e-40d7-9f1f-0615c18a3af4",
   "metadata": {},
   "source": [
    "- 型の指定は、`tf.constant`や`tf.cast`のdtype引数で行うことができる。"
   ]
  },
  {
   "cell_type": "code",
   "execution_count": 40,
   "id": "19800047-4440-4fc0-8722-753bb6b164ab",
   "metadata": {},
   "outputs": [
    {
     "name": "stdout",
     "output_type": "stream",
     "text": [
      "tf.Tensor([2 3 4], shape=(3,), dtype=uint8)\n"
     ]
    }
   ],
   "source": [
    "the_f64_tensor = tf.constant([2.2, 3.3, 4.4], dtype=tf.float64)\n",
    "the_f16_tensor = tf.cast(the_f64_tensor, dtype=tf.float16)\n",
    "# Now, cast to an uint8 and lose the decimal precision\n",
    "the_u8_tensor = tf.cast(the_f16_tensor, dtype=tf.uint8)\n",
    "print(the_u8_tensor)"
   ]
  },
  {
   "cell_type": "markdown",
   "id": "dca66cc0-56a3-4613-8808-605471c68886",
   "metadata": {},
   "source": [
    "## Broadcasting\n",
    "\n",
    "- numpyと同様、Tensorでもbroadcastingを動作させることができる。\n",
    "- numpyの時に調べたルールを張っておく。\n",
    "  - AとBの演算したい場合に、shapeの長さが同じだと、1の部分の次元の要素を複製して演算できる。\n",
    "    - shape=(4,3,2)とshape=(1,3,2)の演算はOK（左側に1があってもOK）\n",
    "    - shape=(4,3,2)とshape=(4,3,1)の演算はOK（左側に1があってもOK）\n",
    "    - shape=(5,4,3,2)とshape=(5,4,1,1)の演算はOK（1が複数あってもOK）\n",
    "    - shape=(5,4,3,2)とshape=(1,4,1,1)の演算はOK（1が飛んでてもOK）\n",
    "    - shape=(5,1,3,2)とshape=(5,4,1,2)の演算はOK（お互い違う場合でもOK）\n",
    "  - また、shapeの長さが異なる場合でも、親側（左側）には1を自動追加することができる。\n",
    "    - shape=(5,4,3,2)とshape=(4,3,2)の演算はOK（shape=(4,3,2)は勝手に(1,4,3,2)と解釈）\n",
    "    - shape=(5,4,3,2)とshape=(3,2)の演算はOK（shape=(3,2)は勝手に(1,1,4,3,2)と解釈）\n",
    "  - ちなみに、子側（右側）には1を自動追加できない。理由は両方に自動追加できると、複数の選択肢が発生するためと思われる。\n",
    "    - shape=(5,4,3,2)とshape=(5,4)の演算はNG\n",
    "    - やりたいときは、足りない側を明示的にreshapeしてあげる必要がある。"
   ]
  },
  {
   "cell_type": "markdown",
   "id": "b2671b59-e36c-4f58-9595-cc1c98a7cb17",
   "metadata": {},
   "source": [
    "- 以下の例はこのように機能する。\n",
    "  - 次元数が不一致だが、yの親側に1を足すことが可能なので、x.shape=(3,1), y.shape=(1,4)として扱われる。\n",
    "  - x.shape=(3,1)は1の部分が4つに複製され、以下の通りとなる。\n",
    "  ```\n",
    "  [[1 1 1 1]\n",
    "   [2 2 2 2]\n",
    "   [3 3 3 3]]\n",
    "  ```\n",
    "  - y.shape=(1,4)は1の部分が3つに複製され、以下の通りとなる。\n",
    "  ```\n",
    "  [[1 2 3 4]\n",
    "   [1 2 3 4]\n",
    "   [1 2 3 4]]\n",
    "  ```\n",
    "  - この要素同士の掛け算が、計算結果となる。"
   ]
  },
  {
   "cell_type": "code",
   "execution_count": 41,
   "id": "20484bf6-226b-4197-b02a-b0d6fb351c27",
   "metadata": {},
   "outputs": [
    {
     "name": "stdout",
     "output_type": "stream",
     "text": [
      "tf.Tensor(\n",
      "[[1]\n",
      " [2]\n",
      " [3]], shape=(3, 1), dtype=int32) \n",
      "\n",
      "tf.Tensor([1 2 3 4], shape=(4,), dtype=int32) \n",
      "\n",
      "tf.Tensor(\n",
      "[[ 1  2  3  4]\n",
      " [ 2  4  6  8]\n",
      " [ 3  6  9 12]], shape=(3, 4), dtype=int32)\n"
     ]
    }
   ],
   "source": [
    "# These are the same computations\n",
    "x = tf.reshape(x,[3,1])\n",
    "y = tf.range(1, 5)\n",
    "print(x, \"\\n\")\n",
    "print(y, \"\\n\")\n",
    "print(tf.multiply(x, y))"
   ]
  },
  {
   "cell_type": "markdown",
   "id": "e15a28da-4860-44a7-8651-a596710d698e",
   "metadata": {},
   "source": [
    "- broadcast処理は、要素を複製したTensorをメモリ上に実体化しないため、メモリ的にも処理量的にも効率が良い。\n",
    "- broadcastは手動で以下のように展開を試すこともできる。"
   ]
  },
  {
   "cell_type": "code",
   "execution_count": 45,
   "id": "1ca36f1d-a2fb-405a-9aa0-e42793c3115e",
   "metadata": {},
   "outputs": [
    {
     "name": "stdout",
     "output_type": "stream",
     "text": [
      "tf.Tensor(\n",
      "[[1 2 3]\n",
      " [1 2 3]\n",
      " [1 2 3]\n",
      " [1 2 3]], shape=(4, 3), dtype=int32)\n"
     ]
    }
   ],
   "source": [
    "print(tf.broadcast_to(tf.constant([1, 2, 3]), [4, 3]))"
   ]
  },
  {
   "cell_type": "markdown",
   "id": "6cdb877b-90c3-422e-a241-f7eade066a17",
   "metadata": {
    "tags": []
   },
   "source": [
    "## tf.convert_to_tensor\n",
    "- `tf.matmul`や`tf.reshape`などのoperatorは、Tensorを入力とするが、Pythonのobjectを与えてもTensorに自動で変換する。\n",
    "- これはtf.convert_to_tensorにより実際に変換されている。\n",
    "- 変換のレジストリがあり、NumPyのndarray、TensorShape、Pythonのリスト、tf.Variableなどのほとんどのオブジェクトクラスはすべて自動的に変換されます。\n",
    "- 以下に詳細な情報があり、自身で変換を定義したい場合などもこちらを参照してください。\n",
    "  - https://www.tensorflow.org/api_docs/python/tf/register_tensor_conversion_function"
   ]
  },
  {
   "cell_type": "markdown",
   "id": "92a04ee8-b064-4803-a7d8-9a86073d4466",
   "metadata": {},
   "source": [
    "## Ragged Tensors\n",
    "\n",
    "- 要素数のことなるものを扱うための特殊なTensorです。\n",
    "- 以下は通常のTensorでエラーになります。"
   ]
  },
  {
   "cell_type": "code",
   "execution_count": 61,
   "id": "d4810976-8309-41c3-9893-41b8418562b7",
   "metadata": {},
   "outputs": [
    {
     "name": "stdout",
     "output_type": "stream",
     "text": [
      "ValueError: Can't convert non-rectangular Python sequence to Tensor.\n"
     ]
    }
   ],
   "source": [
    "ragged_list = [\n",
    "    [0, 1, 2, 3],\n",
    "    [4, 5],\n",
    "    [6, 7, 8],\n",
    "    [9]]\n",
    "\n",
    "try:\n",
    "    tensor = tf.constant(ragged_list)\n",
    "except Exception as e:\n",
    "    print(f\"{type(e).__name__}: {e}\")"
   ]
  },
  {
   "cell_type": "markdown",
   "id": "4561602e-ed46-4b41-8e52-adbd80757e97",
   "metadata": {},
   "source": [
    "- ragged tensorを使うには以下のようにします。"
   ]
  },
  {
   "cell_type": "code",
   "execution_count": 48,
   "id": "bd55a613-de2e-4075-8a5e-c33e3c02e0b1",
   "metadata": {},
   "outputs": [
    {
     "name": "stdout",
     "output_type": "stream",
     "text": [
      "<tf.RaggedTensor [[0, 1, 2, 3], [4, 5], [6, 7, 8], [9]]>\n"
     ]
    }
   ],
   "source": [
    "ragged_tensor = tf.ragged.constant(ragged_list)\n",
    "print(ragged_tensor)"
   ]
  },
  {
   "cell_type": "markdown",
   "id": "db4903ba-159e-47ae-9671-b6e15caf6e7e",
   "metadata": {},
   "source": [
    "- ragged tensorのshapeはNoneを含んだ以下のような形状となります。"
   ]
  },
  {
   "cell_type": "code",
   "execution_count": 55,
   "id": "cb5b2153-becd-4bf4-91b3-ed7c281056b4",
   "metadata": {},
   "outputs": [
    {
     "name": "stdout",
     "output_type": "stream",
     "text": [
      "(4, None)\n"
     ]
    }
   ],
   "source": [
    "print(ragged_tensor.shape)"
   ]
  },
  {
   "cell_type": "markdown",
   "id": "aa9839b8-18ae-415a-aa8b-a5376655a49a",
   "metadata": {},
   "source": [
    "- `tf.RaggedTensor.to_tensor()`により、0詰めされたTensorに変換することも可能です。"
   ]
  },
  {
   "cell_type": "code",
   "execution_count": 56,
   "id": "03966bb5-9c2b-4063-a0e5-6fb2af7a81b9",
   "metadata": {},
   "outputs": [
    {
     "name": "stdout",
     "output_type": "stream",
     "text": [
      "tf.Tensor(\n",
      "[[0 1 2 3]\n",
      " [4 5 0 0]\n",
      " [6 7 8 0]\n",
      " [9 0 0 0]], shape=(4, 4), dtype=int32)\n"
     ]
    }
   ],
   "source": [
    "print(ragged_tensor.to_tensor())"
   ]
  },
  {
   "cell_type": "markdown",
   "id": "b9fda734-e140-40b9-a26f-bbd56b6f3c3d",
   "metadata": {},
   "source": [
    "- rankを調べるには、ndimsの代わりに、ragged_rankを使います。"
   ]
  },
  {
   "cell_type": "code",
   "execution_count": 58,
   "id": "2f38354b-f48e-43da-9e38-928b14b4ef1e",
   "metadata": {},
   "outputs": [
    {
     "data": {
      "text/plain": [
       "1"
      ]
     },
     "execution_count": 58,
     "metadata": {},
     "output_type": "execute_result"
    }
   ],
   "source": [
    "ragged_tensor.ragged_rank"
   ]
  },
  {
   "cell_type": "markdown",
   "id": "0bab164c-21fb-4ce8-ae9f-f626ebc9b47e",
   "metadata": {},
   "source": [
    "## String tensors\n",
    "\n",
    "- dtypeが`tf.string`のTensorであり、Tensorの中に可変長のバイト配列データを格納したものである。\n",
    "- `tf.string`はPythonのstrとことなり、indexをもちません。また文字列長はテンソルの軸ではありません。\n",
    "- 文字列操作の詳細は以下を参照ください。\n",
    "  - https://www.tensorflow.org/api_docs/python/tf/strings\n",
    "- 以下はscalarなstring tensorの例です。"
   ]
  },
  {
   "cell_type": "code",
   "execution_count": 62,
   "id": "f1ff9fc3-edb4-4947-bcd8-e654eef988d6",
   "metadata": {},
   "outputs": [
    {
     "name": "stdout",
     "output_type": "stream",
     "text": [
      "tf.Tensor(b'Gray wolf', shape=(), dtype=string)\n"
     ]
    }
   ],
   "source": [
    "# Tensors can be strings, too here is a scalar string.\n",
    "scalar_string_tensor = tf.constant(\"Gray wolf\")\n",
    "print(scalar_string_tensor)"
   ]
  },
  {
   "cell_type": "markdown",
   "id": "86024045-640d-4a30-a990-219fc834d759",
   "metadata": {},
   "source": [
    "- ベクトルのようにも扱えます。"
   ]
  },
  {
   "cell_type": "code",
   "execution_count": 63,
   "id": "fcc8dc7b-58d3-4925-b9c8-01315685c76a",
   "metadata": {},
   "outputs": [
    {
     "name": "stdout",
     "output_type": "stream",
     "text": [
      "tf.Tensor([b'Gray wolf' b'Quick brown fox' b'Lazy dog'], shape=(3,), dtype=string)\n"
     ]
    }
   ],
   "source": [
    "# If you have three string tensors of different lengths, this is OK.\n",
    "tensor_of_strings = tf.constant([\"Gray wolf\",\n",
    "                                 \"Quick brown fox\",\n",
    "                                 \"Lazy dog\"])\n",
    "# Note that the shape is (3,). The string length is not included.\n",
    "print(tensor_of_strings)"
   ]
  },
  {
   "cell_type": "markdown",
   "id": "1fe6c016-2438-4504-b587-03435b1d0fe9",
   "metadata": {},
   "source": [
    "- 絵文字ももちろん扱えます。"
   ]
  },
  {
   "cell_type": "code",
   "execution_count": 64,
   "id": "4f2a1a4e-e6ec-4712-b58f-366830dcf380",
   "metadata": {},
   "outputs": [
    {
     "data": {
      "text/plain": [
       "<tf.Tensor: shape=(), dtype=string, numpy=b'\\xf0\\x9f\\xa5\\xb3\\xf0\\x9f\\x91\\x8d'>"
      ]
     },
     "execution_count": 64,
     "metadata": {},
     "output_type": "execute_result"
    }
   ],
   "source": [
    "tf.constant(\"🥳👍\")"
   ]
  },
  {
   "cell_type": "markdown",
   "id": "145240a5-7337-49f7-bf37-d6a169690a29",
   "metadata": {},
   "source": [
    "- 基本的な操作は、`tf.strings`として定義され、その一例としては、splitなどです。\n",
    "- scalarの場合は、tensorとして結果が返ってきます。"
   ]
  },
  {
   "cell_type": "code",
   "execution_count": 65,
   "id": "580e5428-a815-4f51-9120-0e5d19e36e01",
   "metadata": {},
   "outputs": [
    {
     "name": "stdout",
     "output_type": "stream",
     "text": [
      "tf.Tensor([b'Gray' b'wolf'], shape=(2,), dtype=string)\n"
     ]
    }
   ],
   "source": [
    "# You can use split to split a string into a set of tensors\n",
    "print(tf.strings.split(scalar_string_tensor, sep=\" \"))"
   ]
  },
  {
   "cell_type": "markdown",
   "id": "70cf54c0-18ff-4f84-9a94-d7dd548313c2",
   "metadata": {},
   "source": [
    "- 一方で、ベクトルの場合のsplitは要素数が異なるので、RaggedTensorで返ってきます。"
   ]
  },
  {
   "cell_type": "code",
   "execution_count": 66,
   "id": "a43dda0f-46e6-4c66-86c8-2a98ed3eea00",
   "metadata": {},
   "outputs": [
    {
     "name": "stdout",
     "output_type": "stream",
     "text": [
      "<tf.RaggedTensor [[b'Gray', b'wolf'], [b'Quick', b'brown', b'fox'], [b'Lazy', b'dog']]>\n"
     ]
    }
   ],
   "source": [
    "# ...but it turns into a `RaggedTensor` if you split up a tensor of strings,\n",
    "# as each string might be split into a different number of parts.\n",
    "print(tf.strings.split(tensor_of_strings))"
   ]
  },
  {
   "cell_type": "markdown",
   "id": "d023c67c-1c42-4199-83cf-eb3dbc207388",
   "metadata": {},
   "source": [
    "- `split`と`to_number`を組み合わせて、文字列を数値列に変換するなどの処理も可能です。"
   ]
  },
  {
   "cell_type": "code",
   "execution_count": 67,
   "id": "f2cd0e89-03ab-4fcf-8a43-5eff0f9154e8",
   "metadata": {},
   "outputs": [
    {
     "name": "stdout",
     "output_type": "stream",
     "text": [
      "tf.Tensor([  1.  10. 100.], shape=(3,), dtype=float32)\n"
     ]
    }
   ],
   "source": [
    "text = tf.constant(\"1 10 100\")\n",
    "print(tf.strings.to_number(tf.strings.split(text, \" \")))"
   ]
  },
  {
   "cell_type": "markdown",
   "id": "fc870ade-3e12-4e6c-8352-ab2efbe88bd7",
   "metadata": {},
   "source": [
    "- `tf.cast`などを用いて、string tensorを数値列に変換することはできませんが、文字列を1byteずつに変換し、それを数値列にすることは可能です。"
   ]
  },
  {
   "cell_type": "code",
   "execution_count": 69,
   "id": "dcda0b81-405f-4afc-b1c2-9438aac8d2ad",
   "metadata": {},
   "outputs": [
    {
     "name": "stdout",
     "output_type": "stream",
     "text": [
      "Byte strings: tf.Tensor([b'D' b'u' b'c' b'k'], shape=(4,), dtype=string)\n",
      "Bytes: tf.Tensor([ 68 117  99 107], shape=(4,), dtype=uint8)\n"
     ]
    }
   ],
   "source": [
    "byte_strings = tf.strings.bytes_split(tf.constant(\"Duck\"))\n",
    "byte_ints = tf.io.decode_raw(tf.constant(\"Duck\"), tf.uint8)\n",
    "print(\"Byte strings:\", byte_strings)\n",
    "print(\"Bytes:\", byte_ints)"
   ]
  },
  {
   "cell_type": "markdown",
   "id": "2a6a1c78-a465-485f-951f-891502fc4401",
   "metadata": {},
   "source": [
    "- マルチバイト文字を、その文字単位で分割する操作なども可能です。"
   ]
  },
  {
   "cell_type": "code",
   "execution_count": 70,
   "id": "251189c9-a6cf-4ba9-b4af-5c87af9858cc",
   "metadata": {},
   "outputs": [
    {
     "name": "stdout",
     "output_type": "stream",
     "text": [
      "\n",
      "Unicode bytes: tf.Tensor(b'\\xe3\\x82\\xa2\\xe3\\x83\\x92\\xe3\\x83\\xab \\xf0\\x9f\\xa6\\x86', shape=(), dtype=string)\n",
      "\n",
      "Unicode chars: tf.Tensor([b'\\xe3\\x82\\xa2' b'\\xe3\\x83\\x92' b'\\xe3\\x83\\xab' b' ' b'\\xf0\\x9f\\xa6\\x86'], shape=(5,), dtype=string)\n",
      "\n",
      "Unicode values: tf.Tensor([ 12450  12498  12523     32 129414], shape=(5,), dtype=int32)\n"
     ]
    }
   ],
   "source": [
    "# Or split it up as unicode and then decode it\n",
    "unicode_bytes = tf.constant(\"アヒル 🦆\")\n",
    "unicode_char_bytes = tf.strings.unicode_split(unicode_bytes, \"UTF-8\")\n",
    "unicode_values = tf.strings.unicode_decode(unicode_bytes, \"UTF-8\")\n",
    "\n",
    "print(\"\\nUnicode bytes:\", unicode_bytes)\n",
    "print(\"\\nUnicode chars:\", unicode_char_bytes)\n",
    "print(\"\\nUnicode values:\", unicode_values)"
   ]
  },
  {
   "cell_type": "markdown",
   "id": "69b8d39d-ff06-4687-8fbd-ce9fdcf9a16b",
   "metadata": {},
   "source": [
    "- `tf.string`はすべてのraw bytesのデータとして使われます。\n",
    "- 画像やcsvをパースするなどの処理は、`tf.io`モジュールを使います。"
   ]
  },
  {
   "cell_type": "markdown",
   "id": "5c03a7f5-a566-4617-a53c-d2351faffea9",
   "metadata": {},
   "source": [
    "## Sparse tensors\n",
    "\n",
    "- 要素がほぼ0となるようなテンソルを扱うためのsparse tensorを使うことができる。\n",
    "- これは自然言語処理などでは頻繁に発生する。\n",
    "- sparse tensorでは、非ゼロのindexとその値をデータとして扱うことで、メモリ上効率的にとり扱うことのできるデータ型である。"
   ]
  },
  {
   "cell_type": "code",
   "execution_count": 72,
   "id": "ada0ed1f-29cb-4cf9-9f06-c5e6027f4b7b",
   "metadata": {},
   "outputs": [
    {
     "name": "stdout",
     "output_type": "stream",
     "text": [
      "SparseTensor(indices=tf.Tensor(\n",
      "[[0 0]\n",
      " [1 2]], shape=(2, 2), dtype=int64), values=tf.Tensor([1 2], shape=(2,), dtype=int32), dense_shape=tf.Tensor([3 4], shape=(2,), dtype=int64)) \n",
      "\n",
      "tf.Tensor(\n",
      "[[1 0 0 0]\n",
      " [0 0 2 0]\n",
      " [0 0 0 0]], shape=(3, 4), dtype=int32)\n"
     ]
    }
   ],
   "source": [
    "# Sparse tensors store values by index in a memory-efficient manner\n",
    "sparse_tensor = tf.sparse.SparseTensor(indices=[[0, 0], [1, 2]],\n",
    "                                       values=[1, 2],\n",
    "                                       dense_shape=[3, 4])\n",
    "print(sparse_tensor, \"\\n\")\n",
    "\n",
    "# You can convert sparse tensors to dense\n",
    "print(tf.sparse.to_dense(sparse_tensor))"
   ]
  },
  {
   "cell_type": "code",
   "execution_count": 73,
   "id": "12bda2b6-3624-49b9-bd16-59844cb07f11",
   "metadata": {},
   "outputs": [],
   "source": [
    "# 以上"
   ]
  }
 ],
 "metadata": {
  "kernelspec": {
   "display_name": "Python 3 (ipykernel)",
   "language": "python",
   "name": "python3"
  },
  "language_info": {
   "codemirror_mode": {
    "name": "ipython",
    "version": 3
   },
   "file_extension": ".py",
   "mimetype": "text/x-python",
   "name": "python",
   "nbconvert_exporter": "python",
   "pygments_lexer": "ipython3",
   "version": "3.8.10"
  }
 },
 "nbformat": 4,
 "nbformat_minor": 5
}
