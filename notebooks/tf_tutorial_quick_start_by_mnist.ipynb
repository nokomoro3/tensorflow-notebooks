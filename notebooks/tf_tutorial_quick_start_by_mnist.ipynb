{
 "cells": [
  {
   "cell_type": "markdown",
   "id": "aabc72f3-8a69-4b10-8b6f-eaa6eabe6a22",
   "metadata": {},
   "source": [
    "# tf_tutorial_quick_start_by_mnist\n",
    "- ref: https://www.tensorflow.org/tutorials/quickstart/beginner?hl=ja"
   ]
  },
  {
   "cell_type": "code",
   "execution_count": 59,
   "id": "a0fa2882-f587-43c4-aeca-de341a2bbce5",
   "metadata": {},
   "outputs": [],
   "source": [
    "import tensorflow as tf\n",
    "import tensorflow.keras.layers as layers"
   ]
  },
  {
   "cell_type": "markdown",
   "id": "ef8e4d37-d41f-4a9b-a36b-04d04e704172",
   "metadata": {},
   "source": [
    "## prepare dataset"
   ]
  },
  {
   "cell_type": "markdown",
   "id": "9eeeaf2a-d703-476e-8f66-de5fc2868128",
   "metadata": {},
   "source": [
    "- numpy.arrayが返ってくる。"
   ]
  },
  {
   "cell_type": "code",
   "execution_count": 60,
   "id": "1b61af88-2f46-4e89-8348-851bb7a91ae2",
   "metadata": {},
   "outputs": [],
   "source": [
    "(x_train, y_train), (x_test, y_test) = tf.keras.datasets.mnist.load_data()"
   ]
  },
  {
   "cell_type": "markdown",
   "id": "17a9909a-9ece-47fa-bfbb-204817584b3e",
   "metadata": {},
   "source": [
    "- 8bitの最大値(255)で正規化して0～1にする。"
   ]
  },
  {
   "cell_type": "code",
   "execution_count": 61,
   "id": "08f5331f-e5eb-45ac-9c95-aeb50988f3a7",
   "metadata": {},
   "outputs": [],
   "source": [
    "# normalize\n",
    "x_train, x_test = x_train / 255.0, x_test / 255.0"
   ]
  },
  {
   "cell_type": "markdown",
   "id": "3c9297c5-8258-4666-913e-ddf6225051de",
   "metadata": {},
   "source": [
    "## define model"
   ]
  },
  {
   "cell_type": "code",
   "execution_count": 62,
   "id": "6db2ad93-c732-468d-a8a4-2374e5f0c182",
   "metadata": {},
   "outputs": [],
   "source": [
    "model = tf.keras.models.Sequential([\n",
    "    tf.keras.layers.Flatten(input_shape=(28, 28)),\n",
    "    tf.keras.layers.Dense(128, activation='relu'),\n",
    "    tf.keras.layers.Dropout(0.2),\n",
    "    tf.keras.layers.Dense(10)\n",
    "])"
   ]
  },
  {
   "cell_type": "code",
   "execution_count": 63,
   "id": "25e0fee4-f14c-4183-9f0e-e891654768aa",
   "metadata": {},
   "outputs": [
    {
     "data": {
      "image/png": "[encoded data removed]",
      "text/plain": [
       "<IPython.core.display.Image object>"
      ]
     },
     "execution_count": 63,
     "metadata": {},
     "output_type": "execute_result"
    }
   ],
   "source": [
    "tf.keras.utils.plot_model(model, show_shapes=True, show_layer_names=True, expand_nested=True, dpi=80)"
   ]
  },
  {
   "cell_type": "markdown",
   "id": "bb2d8501-0b04-4d8b-926d-52326d9ec325",
   "metadata": {},
   "source": [
    "## loss and metics"
   ]
  },
  {
   "cell_type": "markdown",
   "id": "bbe54bd7-5ec0-409a-8b94-e47de5bced0c",
   "metadata": {},
   "source": [
    "- 学習前のmodelにデータを入力すると以下のように出力される。"
   ]
  },
  {
   "cell_type": "code",
   "execution_count": 64,
   "id": "349b8cb1-72f2-43a2-9edd-32120a590383",
   "metadata": {},
   "outputs": [
    {
     "data": {
      "text/plain": [
       "array([[-0.05321139,  0.2938148 ,  0.67400503,  0.4111094 ,  0.48485854,\n",
       "        -0.04672196,  0.60784924, -0.29263   , -0.95106184,  0.35700166]],\n",
       "      dtype=float32)"
      ]
     },
     "execution_count": 64,
     "metadata": {},
     "output_type": "execute_result"
    }
   ],
   "source": [
    "predictions = model(x_train[:1]).numpy()\n",
    "predictions"
   ]
  },
  {
   "cell_type": "markdown",
   "id": "7af00791-b0ee-4e33-ba23-546f508501c7",
   "metadata": {},
   "source": [
    "- クラス分類する場合、softmaxなどで確率値に変換"
   ]
  },
  {
   "cell_type": "code",
   "execution_count": 65,
   "id": "ec92c870-c7fe-4335-bd9f-f215df2b8146",
   "metadata": {},
   "outputs": [
    {
     "data": {
      "text/plain": [
       "array([[0.07444452, 0.10532811, 0.15404898, 0.11843626, 0.127501  ,\n",
       "        0.0749292 , 0.14418752, 0.05859419, 0.03033201, 0.11219823]],\n",
       "      dtype=float32)"
      ]
     },
     "execution_count": 65,
     "metadata": {},
     "output_type": "execute_result"
    }
   ],
   "source": [
    "tf.nn.softmax(predictions).numpy()"
   ]
  },
  {
   "cell_type": "markdown",
   "id": "775918d6-f812-4372-ad9f-b60dc0242f1d",
   "metadata": {},
   "source": [
    "- 実際には、softmaxをNNには組み込まない。(微分が不安定なため)\n",
    "- なので、softmax込みでpredictionsと正解ラベルからcross entropyを計算する関数があり、以下のように使える。"
   ]
  },
  {
   "cell_type": "code",
   "execution_count": 66,
   "id": "a4d09fab-754f-4eb8-a292-c9c5160ab47c",
   "metadata": {},
   "outputs": [
    {
     "data": {
      "text/plain": [
       "2.5912118"
      ]
     },
     "execution_count": 66,
     "metadata": {},
     "output_type": "execute_result"
    }
   ],
   "source": [
    "loss_fn = tf.keras.losses.SparseCategoricalCrossentropy(from_logits=True)\n",
    "loss_fn(y_train[:1], predictions).numpy()"
   ]
  },
  {
   "cell_type": "markdown",
   "id": "080c29bb-cd12-4dad-bcbc-06251291fd35",
   "metadata": {},
   "source": [
    "## training define"
   ]
  },
  {
   "cell_type": "markdown",
   "id": "6c3f886f-daff-4bbd-919e-1888a643d659",
   "metadata": {},
   "source": [
    "- metricsの指定など、隠蔽化が激しくてきついなぁ。"
   ]
  },
  {
   "cell_type": "code",
   "execution_count": 67,
   "id": "65051020-c531-49f1-a6de-21454dcb784b",
   "metadata": {},
   "outputs": [],
   "source": [
    "model.compile(optimizer='adam', loss=loss_fn, metrics=['accuracy'])"
   ]
  },
  {
   "cell_type": "markdown",
   "id": "7afb16b7-bfcf-4439-ae0b-b65f2fa043ab",
   "metadata": {},
   "source": [
    "## training sequence"
   ]
  },
  {
   "cell_type": "code",
   "execution_count": 68,
   "id": "438960e0-07c3-408d-aa3e-97bedc94f18d",
   "metadata": {},
   "outputs": [
    {
     "name": "stdout",
     "output_type": "stream",
     "text": [
      "Epoch 1/5\n",
      "1875/1875 [==============================] - 6s 3ms/step - loss: 0.2953 - accuracy: 0.9144\n",
      "Epoch 2/5\n",
      "1875/1875 [==============================] - 6s 3ms/step - loss: 0.1439 - accuracy: 0.9579\n",
      "Epoch 3/5\n",
      "1875/1875 [==============================] - 6s 3ms/step - loss: 0.1061 - accuracy: 0.9680\n",
      "Epoch 4/5\n",
      "1875/1875 [==============================] - 6s 3ms/step - loss: 0.0878 - accuracy: 0.9733\n",
      "Epoch 5/5\n",
      "1875/1875 [==============================] - 6s 3ms/step - loss: 0.0742 - accuracy: 0.9770\n"
     ]
    },
    {
     "data": {
      "text/plain": [
       "<keras.callbacks.History at 0x1edaab8d910>"
      ]
     },
     "execution_count": 68,
     "metadata": {},
     "output_type": "execute_result"
    }
   ],
   "source": [
    "model.fit(x_train, y_train, epochs=5)"
   ]
  },
  {
   "cell_type": "markdown",
   "id": "b3de252c-cb28-4421-990b-4ed655150e38",
   "metadata": {},
   "source": [
    "## evaluate"
   ]
  },
  {
   "cell_type": "code",
   "execution_count": 58,
   "id": "a1cb5041-6887-4c11-9142-5bbff43c1911",
   "metadata": {},
   "outputs": [
    {
     "name": "stdout",
     "output_type": "stream",
     "text": [
      "313/313 - 1s - loss: 2.2944 - accuracy: 0.1135 - 779ms/epoch - 2ms/step\n"
     ]
    },
    {
     "data": {
      "text/plain": [
       "[2.2943930625915527, 0.11349999904632568]"
      ]
     },
     "execution_count": 58,
     "metadata": {},
     "output_type": "execute_result"
    }
   ],
   "source": [
    "model.evaluate(x_test,  y_test, verbose=2)"
   ]
  },
  {
   "cell_type": "markdown",
   "id": "fed447b2-8dd3-4963-9b7f-7849edb0b7e7",
   "metadata": {},
   "source": [
    "- modelが今のままでは確率値を返さない。\n",
    "- なのでsoftmaxを接続したい場合は以下のようにつなげる。"
   ]
  },
  {
   "cell_type": "code",
   "execution_count": 69,
   "id": "87a40dbc-62be-4c64-bd59-5991bc0b5dba",
   "metadata": {},
   "outputs": [],
   "source": [
    "probability_model = tf.keras.Sequential([\n",
    "    model,\n",
    "    tf.keras.layers.Softmax()\n",
    "])"
   ]
  },
  {
   "cell_type": "code",
   "execution_count": 70,
   "id": "479f1575-0f57-4e05-ac28-38eea631e28c",
   "metadata": {},
   "outputs": [
    {
     "data": {
      "text/plain": [
       "<tf.Tensor: shape=(5, 10), dtype=float32, numpy=\n",
       "array([[3.11153627e-07, 3.18935314e-08, 2.75032435e-05, 1.60089857e-03,\n",
       "        2.93631126e-11, 3.12762131e-06, 2.62489184e-12, 9.98356998e-01,\n",
       "        4.90875891e-06, 6.23484129e-06],\n",
       "       [1.20451604e-08, 2.78226362e-04, 9.99711096e-01, 1.03884258e-05,\n",
       "        8.56050804e-17, 1.39238850e-07, 3.82809020e-08, 5.20425771e-13,\n",
       "        1.61261624e-07, 4.10255792e-15],\n",
       "       [9.92832838e-08, 9.99278605e-01, 8.31085054e-05, 6.78756669e-06,\n",
       "        1.38862288e-05, 1.64194284e-06, 5.41483996e-06, 5.51891630e-04,\n",
       "        5.43214337e-05, 4.11505380e-06],\n",
       "       [9.99971032e-01, 9.97100180e-10, 2.88296496e-06, 9.70017311e-08,\n",
       "        5.79182613e-09, 2.74812692e-07, 1.30719209e-05, 1.70538840e-06,\n",
       "        2.46776324e-08, 1.09414532e-05],\n",
       "       [3.49014772e-05, 3.04255265e-09, 1.15583716e-04, 2.83892496e-06,\n",
       "        9.76199925e-01, 1.28576642e-06, 2.22322979e-05, 2.46340467e-04,\n",
       "        1.00561329e-05, 2.33668163e-02]], dtype=float32)>"
      ]
     },
     "execution_count": 70,
     "metadata": {},
     "output_type": "execute_result"
    }
   ],
   "source": [
    "probability_model(x_test[:5])"
   ]
  },
  {
   "cell_type": "code",
   "execution_count": 71,
   "id": "a4407d84-6ee2-4ace-813c-610869a34244",
   "metadata": {},
   "outputs": [],
   "source": [
    "# 以上"
   ]
  }
 ],
 "metadata": {
  "kernelspec": {
   "display_name": "Python 3 (ipykernel)",
   "language": "python",
   "name": "python3"
  },
  "language_info": {
   "codemirror_mode": {
    "name": "ipython",
    "version": 3
   },
   "file_extension": ".py",
   "mimetype": "text/x-python",
   "name": "python",
   "nbconvert_exporter": "python",
   "pygments_lexer": "ipython3",
   "version": "3.8.10"
  }
 },
 "nbformat": 4,
 "nbformat_minor": 5
}
