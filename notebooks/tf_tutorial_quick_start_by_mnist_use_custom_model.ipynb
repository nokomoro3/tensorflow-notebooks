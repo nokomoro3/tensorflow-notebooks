{
 "cells": [
  {
   "cell_type": "markdown",
   "id": "aabc72f3-8a69-4b10-8b6f-eaa6eabe6a22",
   "metadata": {},
   "source": [
    "# tf_tutorial_quick_start_by_mnist_use_custom_model\n",
    "- ref: https://www.tensorflow.org/tutorials/quickstart/advanced?hl=ja"
   ]
  },
  {
   "cell_type": "code",
   "execution_count": 3,
   "id": "a0fa2882-f587-43c4-aeca-de341a2bbce5",
   "metadata": {},
   "outputs": [],
   "source": [
    "import tensorflow as tf\n",
    "import tensorflow.keras.layers as layers"
   ]
  },
  {
   "cell_type": "markdown",
   "id": "ef8e4d37-d41f-4a9b-a36b-04d04e704172",
   "metadata": {},
   "source": [
    "## prepare dataset"
   ]
  },
  {
   "cell_type": "markdown",
   "id": "9eeeaf2a-d703-476e-8f66-de5fc2868128",
   "metadata": {},
   "source": [
    "- 8bit整数のnumpy.arrayが返ってくる。"
   ]
  },
  {
   "cell_type": "code",
   "execution_count": 5,
   "id": "1b61af88-2f46-4e89-8348-851bb7a91ae2",
   "metadata": {},
   "outputs": [
    {
     "name": "stdout",
     "output_type": "stream",
     "text": [
      "<class 'numpy.ndarray'> uint8\n",
      "<class 'numpy.ndarray'> uint8\n"
     ]
    }
   ],
   "source": [
    "(x_train, y_train), (x_test, y_test) = tf.keras.datasets.mnist.load_data()\n",
    "print(type(x_train), x_train.dtype)\n",
    "print(type(y_train), y_train.dtype)"
   ]
  },
  {
   "cell_type": "markdown",
   "id": "17a9909a-9ece-47fa-bfbb-204817584b3e",
   "metadata": {},
   "source": [
    "- 8bitの最大値(255)で正規化して0～1にする。\n",
    "- モノラルなのでチャンネル次元がない。チャンネル次元を追加する。\n",
    "- model内でconvを使うからだと思われる。"
   ]
  },
  {
   "cell_type": "code",
   "execution_count": 12,
   "id": "08f5331f-e5eb-45ac-9c95-aeb50988f3a7",
   "metadata": {},
   "outputs": [],
   "source": [
    "# normalize\n",
    "x_train, x_test = x_train / 255.0, x_test / 255.0\n",
    "\n",
    "# Add a channels dimension\n",
    "x_train = x_train[..., tf.newaxis]\n",
    "x_test = x_test[..., tf.newaxis]"
   ]
  },
  {
   "cell_type": "markdown",
   "id": "45a36689-9c7c-49dc-88c4-caf4cc8893bd",
   "metadata": {},
   "source": [
    "- datasetクラスに変換"
   ]
  },
  {
   "cell_type": "code",
   "execution_count": 13,
   "id": "68c97d48-2a03-4dab-a6b3-53ff652425fd",
   "metadata": {},
   "outputs": [],
   "source": [
    "train_ds = tf.data.Dataset.from_tensor_slices(\n",
    "    (x_train, y_train)).shuffle(10000).batch(32)\n",
    "test_ds = tf.data.Dataset.from_tensor_slices((x_test, y_test)).batch(32)"
   ]
  },
  {
   "cell_type": "markdown",
   "id": "3c9297c5-8258-4666-913e-ddf6225051de",
   "metadata": {},
   "source": [
    "## define model"
   ]
  },
  {
   "cell_type": "code",
   "execution_count": 19,
   "id": "6db2ad93-c732-468d-a8a4-2374e5f0c182",
   "metadata": {},
   "outputs": [],
   "source": [
    "class MyModel(tf.keras.Model):\n",
    "    def __init__(self):\n",
    "        super(MyModel, self).__init__()\n",
    "        self.conv1 = layers.Conv2D(32, 3, activation='relu')\n",
    "        self.flatten = layers.Flatten()\n",
    "        self.d1 = layers.Dense(128, activation='relu')\n",
    "        self.d2 = layers.Dense(10, activation='softmax')\n",
    "\n",
    "    def call(self, x):\n",
    "        x = self.conv1(x)\n",
    "        x = self.flatten(x)\n",
    "        x = self.d1(x)\n",
    "        return self.d2(x)"
   ]
  },
  {
   "cell_type": "code",
   "execution_count": null,
   "id": "da1ff8c0-c461-494e-80c5-77223cd2a1f1",
   "metadata": {},
   "outputs": [],
   "source": [
    "model = MyModel()"
   ]
  },
  {
   "cell_type": "markdown",
   "id": "bb63d53c-0ccb-4eb6-bd72-81144f0aeff6",
   "metadata": {},
   "source": [
    "- カスタムの場合、可視化が難しい？？"
   ]
  },
  {
   "cell_type": "code",
   "execution_count": 37,
   "id": "25e0fee4-f14c-4183-9f0e-e891654768aa",
   "metadata": {},
   "outputs": [
    {
     "data": {
      "image/png": "[encoded data removed]",
      "text/plain": [
       "<IPython.core.display.Image object>"
      ]
     },
     "execution_count": 37,
     "metadata": {},
     "output_type": "execute_result"
    }
   ],
   "source": [
    "tf.keras.utils.plot_model(model, show_shapes=True, show_layer_names=True, expand_nested=True, dpi=100)"
   ]
  },
  {
   "cell_type": "markdown",
   "id": "d728963e-dde1-4600-9dae-86309f33baec",
   "metadata": {},
   "source": [
    "## losses and metrics"
   ]
  },
  {
   "cell_type": "markdown",
   "id": "ee900605-5406-47cf-b9c4-2a42d8802336",
   "metadata": {},
   "source": [
    "- `tf.keras.metrics.Mean`などでロスを累積できるのはTIPSだな。"
   ]
  },
  {
   "cell_type": "code",
   "execution_count": 22,
   "id": "40facd55-6b4d-4f59-957a-1454963c167a",
   "metadata": {},
   "outputs": [],
   "source": [
    "loss_object = tf.keras.losses.SparseCategoricalCrossentropy()\n",
    "\n",
    "optimizer = tf.keras.optimizers.Adam()\n",
    "\n",
    "train_loss = tf.keras.metrics.Mean(name='train_loss')\n",
    "train_accuracy = tf.keras.metrics.SparseCategoricalAccuracy(name='train_accuracy')\n",
    "\n",
    "test_loss = tf.keras.metrics.Mean(name='test_loss')\n",
    "test_accuracy = tf.keras.metrics.SparseCategoricalAccuracy(name='test_accuracy')"
   ]
  },
  {
   "cell_type": "markdown",
   "id": "080c29bb-cd12-4dad-bcbc-06251291fd35",
   "metadata": {},
   "source": [
    "## update step function"
   ]
  },
  {
   "cell_type": "markdown",
   "id": "6c3f886f-daff-4bbd-919e-1888a643d659",
   "metadata": {},
   "source": [
    "- decolatorでこういう風にするのか"
   ]
  },
  {
   "cell_type": "code",
   "execution_count": 23,
   "id": "65051020-c531-49f1-a6de-21454dcb784b",
   "metadata": {},
   "outputs": [],
   "source": [
    "@tf.function\n",
    "def train_step(images, labels):\n",
    "    with tf.GradientTape() as tape:\n",
    "        predictions = model(images)\n",
    "        loss = loss_object(labels, predictions)\n",
    "    gradients = tape.gradient(loss, model.trainable_variables)\n",
    "    optimizer.apply_gradients(zip(gradients, model.trainable_variables))\n",
    "\n",
    "    train_loss(loss)\n",
    "    train_accuracy(labels, predictions)\n",
    "\n",
    "@tf.function\n",
    "def test_step(images, labels):\n",
    "    predictions = model(images)\n",
    "    t_loss = loss_object(labels, predictions)\n",
    "\n",
    "    test_loss(t_loss)\n",
    "    test_accuracy(labels, predictions)"
   ]
  },
  {
   "cell_type": "markdown",
   "id": "7afb16b7-bfcf-4439-ae0b-b65f2fa043ab",
   "metadata": {},
   "source": [
    "## training sequence"
   ]
  },
  {
   "cell_type": "code",
   "execution_count": 26,
   "id": "438960e0-07c3-408d-aa3e-97bedc94f18d",
   "metadata": {},
   "outputs": [
    {
     "name": "stdout",
     "output_type": "stream",
     "text": [
      "Epoch 1, Loss: 0.005, Accuracy: 99.848, Test Loss: 0.087, Test Accuracy: 98.360\n",
      "Epoch 2, Loss: 0.002, Accuracy: 99.925, Test Loss: 0.090, Test Accuracy: 98.480\n",
      "Epoch 3, Loss: 0.004, Accuracy: 99.885, Test Loss: 0.109, Test Accuracy: 98.130\n",
      "Epoch 4, Loss: 0.003, Accuracy: 99.903, Test Loss: 0.101, Test Accuracy: 98.370\n",
      "Epoch 5, Loss: 0.002, Accuracy: 99.925, Test Loss: 0.090, Test Accuracy: 98.450\n"
     ]
    }
   ],
   "source": [
    "EPOCHS = 5\n",
    "\n",
    "for epoch in range(EPOCHS):\n",
    "\n",
    "    for images, labels in train_ds:\n",
    "        train_step(images, labels)\n",
    "\n",
    "    for test_images, test_labels in test_ds:\n",
    "        test_step(test_images, test_labels)\n",
    "\n",
    "    print(f'Epoch {epoch+1}, ', end=\"\")\n",
    "    print(f'Loss: {train_loss.result():.3f}, ', end=\"\")\n",
    "    print(f'Accuracy: {train_accuracy.result()*100:.3f}, ', end=\"\")\n",
    "    print(f'Test Loss: {test_loss.result():.3f}, ', end=\"\")\n",
    "    print(f'Test Accuracy: {test_accuracy.result()*100:.3f}')\n",
    "\n",
    "    # clear metrics\n",
    "    train_loss.reset_states()\n",
    "    train_accuracy.reset_states()\n",
    "    test_loss.reset_states()\n",
    "    test_accuracy.reset_states()"
   ]
  },
  {
   "cell_type": "code",
   "execution_count": 1,
   "id": "b2af8b10-dbc7-481a-84fe-e180d8c69996",
   "metadata": {},
   "outputs": [],
   "source": [
    "# 以上"
   ]
  }
 ],
 "metadata": {
  "kernelspec": {
   "display_name": "Python 3 (ipykernel)",
   "language": "python",
   "name": "python3"
  },
  "language_info": {
   "codemirror_mode": {
    "name": "ipython",
    "version": 3
   },
   "file_extension": ".py",
   "mimetype": "text/x-python",
   "name": "python",
   "nbconvert_exporter": "python",
   "pygments_lexer": "ipython3",
   "version": "3.8.10"
  }
 },
 "nbformat": 4,
 "nbformat_minor": 5
}
